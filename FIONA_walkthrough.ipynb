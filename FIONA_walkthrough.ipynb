{
  "nbformat": 4,
  "nbformat_minor": 0,
  "metadata": {
    "colab": {
      "name": "FIONA walkthrough.ipynb",
      "provenance": [],
      "collapsed_sections": [
        "af5fkTbOHENl"
      ]
    },
    "kernelspec": {
      "name": "python3",
      "display_name": "Python 3"
    }
  },
  "cells": [
    {
      "cell_type": "markdown",
      "metadata": {
        "id": "af5fkTbOHENl"
      },
      "source": [
        "# Fully Integrated Ordinary Neural Arithmetic (FIONA)\n",
        "FIONA is a Restructure algorithm* for the most common Neural Networks, usually referred to as Dense, Fully Connected or Tabular. The output is one or more linear models that each perfectly explain the behaviour of the Neural Network within a defined area.\n",
        "\n",
        "Two new concepts are introduced as part of FIONA:\n",
        "\n",
        "**Identity Scoring** is a method of tracking how each input is related to the weights of each layer. By following the relationships through the entire model Identity Scoring allows the final layer to be decoded into a linear model. An interactive [Google Sheets workbook](https://colab.research.google.com/drive/1zrlui_5SO2aW5XSUvzYFPm3gb9s2vSSc#scrollTo=af5fkTbOHENl&line=6&uniqifier=1) is available to explore this concept.\n",
        "\n",
        "**FIONA Regions** is a method of tracking the boundaries of each model created by Identity Scoring. The application of some types of activation function, like Rectified Linear Unit (ReLU), creates clean breaks in the behaviour of the Neural Networks which can be interpreted as entirely separate linear models.\n",
        "\n",
        "Wagtail Labs is actively developing FIONA by extending the range of supported languages, frameworks, and layers, as well as improving user experience through code performance and by creating new visualisation tools. To find out more visit https://wagtaillabs.com.\n",
        "\n",
        "\\* An introduction to the RAY framework (Restructure, Assess, Yank) can be found here: https://wagtaillabs.com/2020/10/27/introducing-ray/"
      ]
    },
    {
      "cell_type": "markdown",
      "metadata": {
        "id": "VWTFq7KJHF7U"
      },
      "source": [
        "# Setup"
      ]
    },
    {
      "cell_type": "markdown",
      "metadata": {
        "id": "AnEdFMP6zkPk"
      },
      "source": [
        "Tested on\n",
        "- python 3.6.9 (default, Jul 17 2020, 12:50:27) \\n[GCC 8.4.0]\n",
        "- fastai 1.0.61\n",
        "- pandas 1.1.3\n",
        "- numpy 1.18.5\n",
        "- sklearn 0.22.2.post1\n",
        "- matplotlib 3.2.2"
      ]
    },
    {
      "cell_type": "code",
      "metadata": {
        "id": "kLPisdWsdPF3"
      },
      "source": [
        "import pandas as pd\n",
        "import numpy as np\n",
        "import matplotlib.pyplot as plt\n",
        "from fastai.tabular import *\n",
        "import copy\n",
        "from sklearn.metrics.pairwise import euclidean_distances\n",
        "from itertools import compress\n",
        "\n",
        "#libs for 3d plots\n",
        "from mpl_toolkits import mplot3d\n",
        "import matplotlib.pyplot as plt\n",
        "from mpl_toolkits.mplot3d import axes3d"
      ],
      "execution_count": 1,
      "outputs": []
    },
    {
      "cell_type": "markdown",
      "metadata": {
        "id": "cUe9hvKW0LxP"
      },
      "source": [
        "Set the seed to guarantee consistent results for everyone"
      ]
    },
    {
      "cell_type": "code",
      "metadata": {
        "id": "UKb0D1Qj0zp4"
      },
      "source": [
        "seed = 1\n",
        "\n",
        "# python RNG\n",
        "import random\n",
        "random.seed(seed)\n",
        "\n",
        "# pytorch RNGs\n",
        "import torch\n",
        "torch.manual_seed(seed)\n",
        "torch.backends.cudnn.deterministic = True\n",
        "if torch.cuda.is_available(): torch.cuda.manual_seed_all(seed)\n",
        "\n",
        "# numpy RNG\n",
        "import numpy as np\n",
        "np.random.seed(seed)\n",
        "\n",
        "def random_seed(seed_value, use_cuda):                  # gleaned from multiple forum posts\n",
        "    np.random.seed(seed_value)                          # cpu vars\n",
        "    torch.manual_seed(seed_value)                       # cpu  vars\n",
        "    random.seed(seed_value)                             # Python\n",
        "    if use_cuda: torch.cuda.manual_seed_all(seed_value) # gpu \n",
        "\n",
        "random_seed(42,True)"
      ],
      "execution_count": 2,
      "outputs": []
    },
    {
      "cell_type": "markdown",
      "metadata": {
        "id": "vqceBcbq0WkE"
      },
      "source": [
        "Define a couple of helper functions to pull the input and output for each layer of the function. Helpful for debugging and testing."
      ]
    },
    {
      "cell_type": "code",
      "metadata": {
        "id": "wSNGQPgpG-Gq"
      },
      "source": [
        "class SaveFeatures():\n",
        "    def __init__(self, m): self.hook = m.register_forward_hook(self.hook_fn)\n",
        "    def hook_fn(self, module, input, output): self.features = output\n",
        "    def remove(self): self.hook.remove()\n",
        "        \n",
        "class SaveInput():\n",
        "    def __init__(self, m): self.hook = m.register_forward_hook(self.hook_fn)\n",
        "    def hook_fn(self, module, input, output): self.inp = input\n",
        "    def remove(self): self.hook.remove()\n",
        "\n",
        "def get_inp(x, m, ml):\n",
        "    sos = [SaveInput(o) for o in [ml]]  #define the hooks in the model\n",
        "    py = learn.predict(x)\n",
        "    for o in sos: o.remove()            #remove the hooks from the model\n",
        "    inp = to_np(sos[0].inp[0])          #pull the features out of the last hook \n",
        "    return inp\n",
        "\n",
        "def get_out(x, m, ml):\n",
        "    sfs = [SaveFeatures(o) for o in [ml]]  #define the hooks in the model\n",
        "    py = learn.predict(x)\n",
        "    for o in sfs: o.remove()               #remove the hooks from the model\n",
        "    feat = to_np(sfs[0].features[0])       #pull the features out of the last hook \n",
        "    return feat"
      ],
      "execution_count": 3,
      "outputs": []
    },
    {
      "cell_type": "markdown",
      "metadata": {
        "id": "mN4O8pZa0je4"
      },
      "source": [
        "Download data from the Australian Energy Market Operator. Forecasting electricity demand is a non-stationary (new connections, energy efficiency, etc) problem with multiple cycles (hour of day, day of week, month of year, economic cycles, etc), sensitivities (temperature, public holidays, etc), and randomness (unplanned outages, etc). This has proven challenging for most modelling techniques."
      ]
    },
    {
      "cell_type": "code",
      "metadata": {
        "id": "3adWjByNdWlo",
        "outputId": "88aa1712-c2aa-4f8c-bb4a-3cec293f29a3",
        "colab": {
          "base_uri": "https://localhost:8080/"
        }
      },
      "source": [
        "%%time\n",
        "df = pd.read_csv('http://data.wa.aemo.com.au/datafiles/load-summary/load-summary-2010.csv', parse_dates=['Trading Date','Trading Interval'])\n",
        "for i in range(2011, 2020):\n",
        "  df=df.append(pd.read_csv('http://data.wa.aemo.com.au/datafiles/load-summary/load-summary-'+str(i)+'.csv', \n",
        "                           parse_dates=['Trading Date','Trading Interval']))\n",
        "df=df[['Trading Interval', 'Metered Generation (Total; MWh)']].dropna()\n",
        "\n",
        "df.insert(len(df.columns), 'hour', df['Trading Interval'].dt.hour + df['Trading Interval'].dt.minute/60)\n",
        "df.insert(len(df.columns), 'weekday', df['Trading Interval'].dt.weekday)\n",
        "df.insert(len(df.columns), 'month', df['Trading Interval'].dt.month)\n",
        "df.insert(len(df.columns), 'year', df['Trading Interval'].dt.year)\n",
        "\n",
        "max_temp = pd.read_csv('https://drive.google.com/uc?authuser=0&id=1CHwEwl6A4uqRq_2Q6rtcoICqEMehYR1X&export=download')\n",
        "min_temp = pd.read_csv('https://drive.google.com/uc?authuser=0&id=1HJV8HtzRlTG_Tn12gUEPemqNt-4E-QWo&export=download')\n",
        "temp = max_temp.merge(min_temp, left_on=['Year','Month','Day'], right_on=['Year','Month','Day']).dropna()\n",
        "temp = temp[['Year','Month','Day','Maximum temperature (Degree C)', 'Minimum temperature (Degree C)']]\n",
        "temp['max_lag1'] = temp['Maximum temperature (Degree C)'].shift(periods=1)\n",
        "temp['min_lag1'] = temp['Minimum temperature (Degree C)'].shift(periods=1)\n",
        "temp['max_lag2'] = temp['Maximum temperature (Degree C)'].shift(periods=2)\n",
        "temp['min_lag2'] = temp['Minimum temperature (Degree C)'].shift(periods=2)\n",
        "temp['max_lead1'] = temp['Maximum temperature (Degree C)'].shift(periods=-1)\n",
        "temp['min_lead1'] = temp['Minimum temperature (Degree C)'].shift(periods=-1)\n",
        "df.insert(len(df.columns), 'day', df['Trading Interval'].dt.day)\n",
        "df = df.merge(temp, left_on=['year','month','day'], right_on=['Year','Month','Day']).drop(['day', 'Year', 'Month', 'Day'], axis=1)\n",
        "\n",
        "solar_output = pd.read_csv('https://drive.google.com/uc?authuser=0&id=1LKKPydF9Owcof9z2hSWjNQjQiy-tCLYa&export=download')\n",
        "solar_output = solar_output[['Year','Month','Day','Daily global solar exposure (MJ/m*m)']]\n",
        "df.insert(len(df.columns), 'day', df['Trading Interval'].dt.day)\n",
        "df = df.merge(solar_output, left_on=['year','month','day'], right_on=['Year','Month','Day']).drop(['day', 'Year', 'Month', 'Day'], axis=1)\n",
        "\n",
        "df.columns = df.columns.str.replace(' ', '')\n",
        "df.columns = df.columns.str.replace(')', '')\n",
        "df.columns = df.columns.str.replace('(', '')\n",
        "df.columns = df.columns.str.replace('/', '')\n",
        "df.columns = df.columns.str.replace('*', '')\n",
        "df.columns = df.columns.str.replace(';', '')"
      ],
      "execution_count": 4,
      "outputs": [
        {
          "output_type": "stream",
          "text": [
            "CPU times: user 1.03 s, sys: 215 ms, total: 1.24 s\n",
            "Wall time: 1min 11s\n"
          ],
          "name": "stdout"
        }
      ]
    },
    {
      "cell_type": "markdown",
      "metadata": {
        "id": "GTxT4FkZ1mlz"
      },
      "source": [
        "Prep the data for input into fast.ai. We've limited the model to three continuous variables for plotting purposes."
      ]
    },
    {
      "cell_type": "code",
      "metadata": {
        "id": "vi-tV1YBdkNm",
        "outputId": "f9089086-0263-4079-d336-b3efb1c191ef",
        "colab": {
          "base_uri": "https://localhost:8080/"
        }
      },
      "source": [
        "procs = [FillMissing, Categorify, Normalize]\n",
        "cat_names = ['hour', 'weekday', 'month']\n",
        "cont_names = ['year','MaximumtemperatureDegreeC','MinimumtemperatureDegreeC']#,'max_lag1','min_lag1','max_lag2','min_lag2','max_lead1','min_lead1','DailyglobalsolarexposureMJmm']\n",
        "dep_var = 'MeteredGenerationTotalMWh'\n",
        "\n",
        "data = (TabularList.from_df(df, cont_names=cont_names, cat_names=cat_names, procs=procs)\n",
        "        .split_by_idx(valid_idx=range(int(len(df)-365*48),len(df)))\n",
        "        .label_from_df(cols=dep_var)\n",
        "        .add_test(TabularList.from_df(df.head(len(df)-365*48), cat_names=cat_names, cont_names=cont_names, procs=procs))\n",
        "        .databunch())\n",
        "print(data.train_ds.cont_names)\n",
        "print(data.train_ds.cat_names)"
      ],
      "execution_count": 5,
      "outputs": [
        {
          "output_type": "stream",
          "text": [
            "['year', 'MaximumtemperatureDegreeC', 'MinimumtemperatureDegreeC']\n",
            "['hour', 'weekday', 'month']\n"
          ],
          "name": "stdout"
        }
      ]
    },
    {
      "cell_type": "markdown",
      "metadata": {
        "id": "9QSHjm5h2Ohf"
      },
      "source": [
        "Now train a very simple model."
      ]
    },
    {
      "cell_type": "code",
      "metadata": {
        "id": "JEMJWKrzacrm",
        "outputId": "d364539c-a93b-469e-e398-56385d02212b",
        "colab": {
          "base_uri": "https://localhost:8080/",
          "height": 157
        }
      },
      "source": [
        "learn = tabular_learner(data, layers=[10])\n",
        "learn.unfreeze()\n",
        "learn.fit_one_cycle(3, slice(1e-2))"
      ],
      "execution_count": 6,
      "outputs": [
        {
          "output_type": "display_data",
          "data": {
            "text/html": [
              "<table border=\"1\" class=\"dataframe\">\n",
              "  <thead>\n",
              "    <tr style=\"text-align: left;\">\n",
              "      <th>epoch</th>\n",
              "      <th>train_loss</th>\n",
              "      <th>valid_loss</th>\n",
              "      <th>time</th>\n",
              "    </tr>\n",
              "  </thead>\n",
              "  <tbody>\n",
              "    <tr>\n",
              "      <td>0</td>\n",
              "      <td>6011.406250</td>\n",
              "      <td>10114.166016</td>\n",
              "      <td>00:18</td>\n",
              "    </tr>\n",
              "    <tr>\n",
              "      <td>1</td>\n",
              "      <td>5282.827148</td>\n",
              "      <td>7097.572266</td>\n",
              "      <td>00:18</td>\n",
              "    </tr>\n",
              "    <tr>\n",
              "      <td>2</td>\n",
              "      <td>4976.260742</td>\n",
              "      <td>6667.508789</td>\n",
              "      <td>00:18</td>\n",
              "    </tr>\n",
              "  </tbody>\n",
              "</table>"
            ],
            "text/plain": [
              "<IPython.core.display.HTML object>"
            ]
          },
          "metadata": {
            "tags": []
          }
        }
      ]
    },
    {
      "cell_type": "markdown",
      "metadata": {
        "id": "sIXSYKxI2W66"
      },
      "source": [
        "And plot out performance on the training and validation sets."
      ]
    },
    {
      "cell_type": "code",
      "metadata": {
        "id": "LpqhSWusBH_y",
        "outputId": "2db600bf-9149-45b2-a2ca-4be56168d35d",
        "colab": {
          "base_uri": "https://localhost:8080/",
          "height": 613
        }
      },
      "source": [
        "def check_predictions(learn, df):\n",
        "  fig,axes  = plt.subplots(nrows=2, ncols=2, figsize=(10,10))\n",
        "  fig.tight_layout(pad=6.0)\n",
        "  t_labels = pd.DataFrame({'labels': df.head(len(df)-365*48)['MeteredGenerationTotalMWh']})\n",
        "  t_predictions, _ = learn.get_preds(ds_type=DatasetType.Test)\n",
        "  t_predictions = pd.DataFrame({'predictions': t_predictions[:,0].tolist()})\n",
        "  v_labels = pd.DataFrame({'labels': learn.data.valid_ds.y.items.tolist()})\n",
        "  v_predictions, _ = learn.get_preds(ds_type=DatasetType.Valid)\n",
        "  v_predictions = pd.DataFrame({'predictions': v_predictions[:,0].tolist()})\n",
        "  predictions_plot(t_labels, t_predictions, df.head(len(df)-365*48), axes[0,0])\n",
        "  predictions_plot(v_labels, v_predictions, df.tail(365*48), axes[0,1])\n",
        "  predictions_plot(t_labels.tail(7*48), t_predictions.tail(7*48), df.head(len(df)-365*48).tail(7*48), axes[1,0])\n",
        "  predictions_plot(v_labels.head(7*48), v_predictions.head(7*48), df.tail(365*48).head(7*48), axes[1,1])\n",
        "\n",
        "def predictions_plot(labels, predictions, df, ax):\n",
        "  errors = abs(predictions['predictions'] - labels['labels'])\n",
        "  title='MAE:' + str(round(np.mean(errors), 2)) + \\\n",
        "        ' MAX_AE:' + str(round(np.max(abs(errors)), 2)) + \\\n",
        "        ' RMSE:' + str(round(np.sqrt(np.mean(np.square(errors))), 2))\n",
        "  pd.DataFrame({'labels': labels['labels'], \n",
        "                'predictions': predictions['predictions'],\n",
        "                'Trading Interval': df['TradingInterval'].tolist()}).plot(title=title, ax=ax, x='Trading Interval')\n",
        "                \n",
        "check_predictions(learn, df)"
      ],
      "execution_count": 7,
      "outputs": [
        {
          "output_type": "display_data",
          "data": {
            "text/html": [
              ""
            ],
            "text/plain": [
              "<IPython.core.display.HTML object>"
            ]
          },
          "metadata": {
            "tags": []
          }
        },
        {
          "output_type": "display_data",
          "data": {
            "text/html": [
              ""
            ],
            "text/plain": [
              "<IPython.core.display.HTML object>"
            ]
          },
          "metadata": {
            "tags": []
          }
        },
        {
          "output_type": "display_data",
          "data": {
            "image/png": "[encoded data removed]",
            "text/plain": [
              "<Figure size 720x720 with 4 Axes>"
            ]
          },
          "metadata": {
            "tags": [],
            "needs_background": "light"
          }
        }
      ]
    },
    {
      "cell_type": "markdown",
      "metadata": {
        "id": "raw6bllfHq8d"
      },
      "source": [
        "# Walkthrough"
      ]
    },
    {
      "cell_type": "markdown",
      "metadata": {
        "id": "7D3pIjoB2hXg"
      },
      "source": [
        "Let's have a look at fast.ai's standard tabular model."
      ]
    },
    {
      "cell_type": "code",
      "metadata": {
        "id": "0pkB1EdK4L5R",
        "outputId": "30e935a6-eea9-49aa-f0e6-03c0897213f5",
        "colab": {
          "base_uri": "https://localhost:8080/"
        }
      },
      "source": [
        "learn.model"
      ],
      "execution_count": 8,
      "outputs": [
        {
          "output_type": "execute_result",
          "data": {
            "text/plain": [
              "TabularModel(\n",
              "  (embeds): ModuleList(\n",
              "    (0): Embedding(49, 14)\n",
              "    (1): Embedding(8, 5)\n",
              "    (2): Embedding(13, 7)\n",
              "  )\n",
              "  (emb_drop): Dropout(p=0.0, inplace=False)\n",
              "  (bn_cont): BatchNorm1d(3, eps=1e-05, momentum=0.1, affine=True, track_running_stats=True)\n",
              "  (layers): Sequential(\n",
              "    (0): Linear(in_features=29, out_features=10, bias=True)\n",
              "    (1): ReLU(inplace=True)\n",
              "    (2): BatchNorm1d(10, eps=1e-05, momentum=0.1, affine=True, track_running_stats=True)\n",
              "    (3): Linear(in_features=10, out_features=1, bias=True)\n",
              "  )\n",
              ")"
            ]
          },
          "metadata": {
            "tags": []
          },
          "execution_count": 8
        }
      ]
    },
    {
      "cell_type": "markdown",
      "metadata": {
        "id": "LGOZiIRH2ojp"
      },
      "source": [
        "Let's pick a record at random for testing."
      ]
    },
    {
      "cell_type": "code",
      "metadata": {
        "id": "DCaMFcgNIBa0",
        "outputId": "360e4230-9685-4a64-8d60-f9d2031cc799",
        "colab": {
          "base_uri": "https://localhost:8080/"
        }
      },
      "source": [
        "raw_input = df.iloc[172319]\n",
        "raw_input"
      ],
      "execution_count": 9,
      "outputs": [
        {
          "output_type": "execute_result",
          "data": {
            "text/plain": [
              "TradingInterval                 2020-01-01 07:30:00\n",
              "MeteredGenerationTotalMWh                   767.148\n",
              "hour                                            7.5\n",
              "weekday                                           2\n",
              "month                                             1\n",
              "year                                           2020\n",
              "MaximumtemperatureDegreeC                      31.9\n",
              "MinimumtemperatureDegreeC                      15.3\n",
              "max_lag1                                       30.8\n",
              "min_lag1                                       12.7\n",
              "max_lag2                                       26.2\n",
              "min_lag2                                       13.9\n",
              "max_lead1                                      24.9\n",
              "min_lead1                                      16.4\n",
              "DailyglobalsolarexposureMJmm                   31.6\n",
              "Name: 172319, dtype: object"
            ]
          },
          "metadata": {
            "tags": []
          },
          "execution_count": 9
        }
      ]
    },
    {
      "cell_type": "markdown",
      "metadata": {
        "id": "xKuHRXJX2-k8"
      },
      "source": [
        "Let's massage the input into fast.ai itself a little. We'll use *one_item* to translate our selected record into the right format, but we'll set the categorical variables to 1 because that's a bit easier to input into a linear model. We'd also like to use the raw continuous values, but it's not easy to find the normalisation values in fast.ai (happy for anyone to point us in the right direction)."
      ]
    },
    {
      "cell_type": "code",
      "metadata": {
        "id": "cgkaV8rIQmO_",
        "outputId": "dd8d2be5-f2f4-4aa3-a82f-4fd832d6cadc",
        "colab": {
          "base_uri": "https://localhost:8080/"
        }
      },
      "source": [
        "input = data.one_item(raw_input)[0][0][0].detach().numpy()\n",
        "input[:] = 1\n",
        "input = np.append(input, data.one_item(raw_input)[0][1][0].detach().numpy())\n",
        "input = np.expand_dims(input, 1)\n",
        "input"
      ],
      "execution_count": 10,
      "outputs": [
        {
          "output_type": "execute_result",
          "data": {
            "text/plain": [
              "array([[1.      ],\n",
              "       [1.      ],\n",
              "       [1.      ],\n",
              "       [2.354905],\n",
              "       [0.989571],\n",
              "       [0.509144]])"
            ]
          },
          "metadata": {
            "tags": []
          },
          "execution_count": 10
        }
      ]
    },
    {
      "cell_type": "markdown",
      "metadata": {
        "id": "WDJsx3I33_d4"
      },
      "source": [
        "Let's make sure that the continuous variables are the same as what's going into the first layer of the model."
      ]
    },
    {
      "cell_type": "code",
      "metadata": {
        "id": "YSYGWB2Fo-Zf",
        "outputId": "c3fb8061-8428-4c45-ba34-7ccd196a92f2",
        "colab": {
          "base_uri": "https://localhost:8080/"
        }
      },
      "source": [
        "get_inp(df.iloc[172319], learn.model, learn.model.bn_cont)"
      ],
      "execution_count": 11,
      "outputs": [
        {
          "output_type": "execute_result",
          "data": {
            "text/plain": [
              "array([[2.354905, 0.989571, 0.509144]], dtype=float32)"
            ]
          },
          "metadata": {
            "tags": []
          },
          "execution_count": 11
        }
      ]
    },
    {
      "cell_type": "markdown",
      "metadata": {
        "id": "8Oi6imPE4RUI"
      },
      "source": [
        "Next we'll define a function to create the edges of the search space. It's important because a Neural Network's behaviour is linked with the intersection of the different channel and all non-parallel lines at some point, which may result in up to *2^#channels* regions. Some of them may occur at values that aren't of interest. (billions of degrees, year 3000, etc), so they can be ignored.\n",
        "\n",
        "The output is a list of two dataframes where each row defines the start/end endpoint of a line in the boundary, i.e. the first line is from edge0[0] to edge1[0].\n",
        "\n",
        "For this walkthrough we'll define the area of interest as the extremes of the supplied data. *fiona_Initialise_Edges* recurses through the continuous inputs and expands the shape along the new axis."
      ]
    },
    {
      "cell_type": "code",
      "metadata": {
        "id": "-2g2XKKBdHRf",
        "outputId": "6b3b949e-c8e9-4766-e538-e5ed22ac115d",
        "colab": {
          "base_uri": "https://localhost:8080/",
          "height": 421
        }
      },
      "source": [
        "def fiona_Initialise_Edges(learn, edges, i):\n",
        "  training_data = learn.data.train_ds.x.inner_df.append(\n",
        "                  learn.data.valid_ds.x.inner_df).append(\n",
        "                  learn.data.test_ds.x.inner_df)                                  #Pull the data from the learner\n",
        "  col = learn.data.train_ds.cont_names[i]                                         #Pull the continuous variable name we're considering\n",
        "  min_value = min(training_data[col])                                             #Find the extreme values for that variable\n",
        "  max_value = max(training_data[col])\n",
        "\n",
        "  if i == 0:                                                                      #If this is iteration zero\n",
        "    edges[0][col] = min_value                                                     #Then the boundary is a single line\n",
        "    edges[1][col] = max_value                                                     #From the min to the max value\n",
        "  else: \n",
        "    min_zero_edges = edges[0].copy()                                              #If we're expanding then copy the boundaries\n",
        "    max_zero_edges = edges[0].copy()                                              #The Min and Max copies simply add the new values\n",
        "    min_one_edges = edges[1].copy()                                               #to the existing edges\n",
        "    max_one_edges = edges[1].copy()\n",
        "    mix_zero_edges = edges[0].copy().append(edges[1].copy()).drop_duplicates()    #The Mix copies draw the new edges between the min and max\n",
        "    mix_one_edges = edges[0].copy().append(edges[1].copy()).drop_duplicates()     #values for each unique corner\n",
        "\n",
        "    min_zero_edges[col] = min_one_edges[col] = mix_zero_edges[col] = min_value\n",
        "    max_zero_edges[col] = max_one_edges[col] = mix_one_edges[col] = max_value\n",
        "\n",
        "    edges[0] = min_zero_edges.append(max_zero_edges).append(mix_zero_edges)\n",
        "    edges[1] = min_one_edges.append(max_one_edges).append(mix_one_edges)\n",
        "  \n",
        "  if i+1 < len(learn.data.train_ds.cont_names):                                   #If there are more continuous variables to recurse\n",
        "    edges = fiona_Initialise_Edges(learn, edges, i+1)                             #Then recurse the next one\n",
        "  return(edges)\n",
        "\n",
        "edges = pd.DataFrame(data = np.expand_dims(np.zeros(len(learn.data.train_ds.cont_names)), 0), #Create a dataframe of to get started with, it doesn't matter\n",
        "                     columns = learn.data.train_ds.cont_names)                                #what the value is because they're going to be overwritten\n",
        "edges = [edges.copy(), edges.copy()]\n",
        "edges = fiona_Initialise_Edges(learn, edges, 0)\n",
        "edges[0]"
      ],
      "execution_count": 12,
      "outputs": [
        {
          "output_type": "execute_result",
          "data": {
            "text/html": [
              "<div>\n",
              "<style scoped>\n",
              "    .dataframe tbody tr th:only-of-type {\n",
              "        vertical-align: middle;\n",
              "    }\n",
              "\n",
              "    .dataframe tbody tr th {\n",
              "        vertical-align: top;\n",
              "    }\n",
              "\n",
              "    .dataframe thead th {\n",
              "        text-align: right;\n",
              "    }\n",
              "</style>\n",
              "<table border=\"1\" class=\"dataframe\">\n",
              "  <thead>\n",
              "    <tr style=\"text-align: right;\">\n",
              "      <th></th>\n",
              "      <th>year</th>\n",
              "      <th>MaximumtemperatureDegreeC</th>\n",
              "      <th>MinimumtemperatureDegreeC</th>\n",
              "    </tr>\n",
              "  </thead>\n",
              "  <tbody>\n",
              "    <tr>\n",
              "      <th>0</th>\n",
              "      <td>-1.532967</td>\n",
              "      <td>-2.102996</td>\n",
              "      <td>-2.700646</td>\n",
              "    </tr>\n",
              "    <tr>\n",
              "      <th>0</th>\n",
              "      <td>-1.532967</td>\n",
              "      <td>2.930314</td>\n",
              "      <td>-2.700646</td>\n",
              "    </tr>\n",
              "    <tr>\n",
              "      <th>0</th>\n",
              "      <td>-1.532967</td>\n",
              "      <td>-2.102996</td>\n",
              "      <td>-2.700646</td>\n",
              "    </tr>\n",
              "    <tr>\n",
              "      <th>0</th>\n",
              "      <td>2.354905</td>\n",
              "      <td>-2.102996</td>\n",
              "      <td>-2.700646</td>\n",
              "    </tr>\n",
              "    <tr>\n",
              "      <th>0</th>\n",
              "      <td>-1.532967</td>\n",
              "      <td>-2.102996</td>\n",
              "      <td>3.128174</td>\n",
              "    </tr>\n",
              "    <tr>\n",
              "      <th>0</th>\n",
              "      <td>-1.532967</td>\n",
              "      <td>2.930314</td>\n",
              "      <td>3.128174</td>\n",
              "    </tr>\n",
              "    <tr>\n",
              "      <th>0</th>\n",
              "      <td>-1.532967</td>\n",
              "      <td>-2.102996</td>\n",
              "      <td>3.128174</td>\n",
              "    </tr>\n",
              "    <tr>\n",
              "      <th>0</th>\n",
              "      <td>2.354905</td>\n",
              "      <td>-2.102996</td>\n",
              "      <td>3.128174</td>\n",
              "    </tr>\n",
              "    <tr>\n",
              "      <th>0</th>\n",
              "      <td>-1.532967</td>\n",
              "      <td>-2.102996</td>\n",
              "      <td>-2.700646</td>\n",
              "    </tr>\n",
              "    <tr>\n",
              "      <th>0</th>\n",
              "      <td>-1.532967</td>\n",
              "      <td>2.930314</td>\n",
              "      <td>-2.700646</td>\n",
              "    </tr>\n",
              "    <tr>\n",
              "      <th>0</th>\n",
              "      <td>2.354905</td>\n",
              "      <td>-2.102996</td>\n",
              "      <td>-2.700646</td>\n",
              "    </tr>\n",
              "    <tr>\n",
              "      <th>0</th>\n",
              "      <td>2.354905</td>\n",
              "      <td>2.930314</td>\n",
              "      <td>-2.700646</td>\n",
              "    </tr>\n",
              "  </tbody>\n",
              "</table>\n",
              "</div>"
            ],
            "text/plain": [
              "       year  MaximumtemperatureDegreeC  MinimumtemperatureDegreeC\n",
              "0 -1.532967                  -2.102996                  -2.700646\n",
              "0 -1.532967                   2.930314                  -2.700646\n",
              "0 -1.532967                  -2.102996                  -2.700646\n",
              "0  2.354905                  -2.102996                  -2.700646\n",
              "0 -1.532967                  -2.102996                   3.128174\n",
              "0 -1.532967                   2.930314                   3.128174\n",
              "0 -1.532967                  -2.102996                   3.128174\n",
              "0  2.354905                  -2.102996                   3.128174\n",
              "0 -1.532967                  -2.102996                  -2.700646\n",
              "0 -1.532967                   2.930314                  -2.700646\n",
              "0  2.354905                  -2.102996                  -2.700646\n",
              "0  2.354905                   2.930314                  -2.700646"
            ]
          },
          "metadata": {
            "tags": []
          },
          "execution_count": 12
        }
      ]
    },
    {
      "cell_type": "code",
      "metadata": {
        "id": "N3UncImaCP3C",
        "outputId": "0ee2f578-640d-4c64-9bea-1226af92a6af",
        "colab": {
          "base_uri": "https://localhost:8080/",
          "height": 421
        }
      },
      "source": [
        "edges[1]"
      ],
      "execution_count": 13,
      "outputs": [
        {
          "output_type": "execute_result",
          "data": {
            "text/html": [
              "<div>\n",
              "<style scoped>\n",
              "    .dataframe tbody tr th:only-of-type {\n",
              "        vertical-align: middle;\n",
              "    }\n",
              "\n",
              "    .dataframe tbody tr th {\n",
              "        vertical-align: top;\n",
              "    }\n",
              "\n",
              "    .dataframe thead th {\n",
              "        text-align: right;\n",
              "    }\n",
              "</style>\n",
              "<table border=\"1\" class=\"dataframe\">\n",
              "  <thead>\n",
              "    <tr style=\"text-align: right;\">\n",
              "      <th></th>\n",
              "      <th>year</th>\n",
              "      <th>MaximumtemperatureDegreeC</th>\n",
              "      <th>MinimumtemperatureDegreeC</th>\n",
              "    </tr>\n",
              "  </thead>\n",
              "  <tbody>\n",
              "    <tr>\n",
              "      <th>0</th>\n",
              "      <td>2.354905</td>\n",
              "      <td>-2.102996</td>\n",
              "      <td>-2.700646</td>\n",
              "    </tr>\n",
              "    <tr>\n",
              "      <th>0</th>\n",
              "      <td>2.354905</td>\n",
              "      <td>2.930314</td>\n",
              "      <td>-2.700646</td>\n",
              "    </tr>\n",
              "    <tr>\n",
              "      <th>0</th>\n",
              "      <td>-1.532967</td>\n",
              "      <td>2.930314</td>\n",
              "      <td>-2.700646</td>\n",
              "    </tr>\n",
              "    <tr>\n",
              "      <th>0</th>\n",
              "      <td>2.354905</td>\n",
              "      <td>2.930314</td>\n",
              "      <td>-2.700646</td>\n",
              "    </tr>\n",
              "    <tr>\n",
              "      <th>0</th>\n",
              "      <td>2.354905</td>\n",
              "      <td>-2.102996</td>\n",
              "      <td>3.128174</td>\n",
              "    </tr>\n",
              "    <tr>\n",
              "      <th>0</th>\n",
              "      <td>2.354905</td>\n",
              "      <td>2.930314</td>\n",
              "      <td>3.128174</td>\n",
              "    </tr>\n",
              "    <tr>\n",
              "      <th>0</th>\n",
              "      <td>-1.532967</td>\n",
              "      <td>2.930314</td>\n",
              "      <td>3.128174</td>\n",
              "    </tr>\n",
              "    <tr>\n",
              "      <th>0</th>\n",
              "      <td>2.354905</td>\n",
              "      <td>2.930314</td>\n",
              "      <td>3.128174</td>\n",
              "    </tr>\n",
              "    <tr>\n",
              "      <th>0</th>\n",
              "      <td>-1.532967</td>\n",
              "      <td>-2.102996</td>\n",
              "      <td>3.128174</td>\n",
              "    </tr>\n",
              "    <tr>\n",
              "      <th>0</th>\n",
              "      <td>-1.532967</td>\n",
              "      <td>2.930314</td>\n",
              "      <td>3.128174</td>\n",
              "    </tr>\n",
              "    <tr>\n",
              "      <th>0</th>\n",
              "      <td>2.354905</td>\n",
              "      <td>-2.102996</td>\n",
              "      <td>3.128174</td>\n",
              "    </tr>\n",
              "    <tr>\n",
              "      <th>0</th>\n",
              "      <td>2.354905</td>\n",
              "      <td>2.930314</td>\n",
              "      <td>3.128174</td>\n",
              "    </tr>\n",
              "  </tbody>\n",
              "</table>\n",
              "</div>"
            ],
            "text/plain": [
              "       year  MaximumtemperatureDegreeC  MinimumtemperatureDegreeC\n",
              "0  2.354905                  -2.102996                  -2.700646\n",
              "0  2.354905                   2.930314                  -2.700646\n",
              "0 -1.532967                   2.930314                  -2.700646\n",
              "0  2.354905                   2.930314                  -2.700646\n",
              "0  2.354905                  -2.102996                   3.128174\n",
              "0  2.354905                   2.930314                   3.128174\n",
              "0 -1.532967                   2.930314                   3.128174\n",
              "0  2.354905                   2.930314                   3.128174\n",
              "0 -1.532967                  -2.102996                   3.128174\n",
              "0 -1.532967                   2.930314                   3.128174\n",
              "0  2.354905                  -2.102996                   3.128174\n",
              "0  2.354905                   2.930314                   3.128174"
            ]
          },
          "metadata": {
            "tags": []
          },
          "execution_count": 13
        }
      ]
    },
    {
      "cell_type": "markdown",
      "metadata": {
        "id": "zkHh-p93MPu5"
      },
      "source": [
        "We're going to define a helper function that let us visualise the decision boundaries. Not very exciting right now."
      ]
    },
    {
      "cell_type": "code",
      "metadata": {
        "id": "Cnu-uGhpDdYf",
        "outputId": "f004ec0d-73e2-40f4-ffe1-38896edd6a8c",
        "colab": {
          "base_uri": "https://localhost:8080/",
          "height": 248
        }
      },
      "source": [
        "def edge_plot(in_edges, show, colour='red', ax=None):\n",
        "  fig = plt.figure()#figsize=((432,288)))\n",
        "  if ax is None:\n",
        "    ax = plt.axes(projection=\"3d\")\n",
        "\n",
        "  for i in range(in_edges[0]['year'].shape[0]):\n",
        "    yline = [val for pair in zip(in_edges[0]['year'][i:i+1], in_edges[1]['year'][i:i+1]) for val in pair]\n",
        "    xline = [val for pair in zip(in_edges[0]['MaximumtemperatureDegreeC'][i:i+1], in_edges[1]['MaximumtemperatureDegreeC'][i:i+1]) for val in pair]\n",
        "    zline = [val for pair in zip(in_edges[0]['MinimumtemperatureDegreeC'][i:i+1], in_edges[1]['MinimumtemperatureDegreeC'][i:i+1]) for val in pair]\n",
        "    ax.plot3D(xline, yline, zline, colour)\n",
        "\n",
        "  if show:\n",
        "    plt.show()\n",
        "  return(ax)\n",
        "\n",
        "ax = edge_plot(edges,False)"
      ],
      "execution_count": 14,
      "outputs": [
        {
          "output_type": "display_data",
          "data": {
            "image/png": "[encoded data removed]",
            "text/plain": [
              "<Figure size 432x288 with 1 Axes>"
            ]
          },
          "metadata": {
            "tags": [],
            "needs_background": "light"
          }
        }
      ]
    },
    {
      "cell_type": "markdown",
      "metadata": {
        "id": "_ZnD2XV2NOPR"
      },
      "source": [
        "*fiona_Initialise* creates the starting FIONA Region. Each FIONA Region is a list of four elements:\n",
        " - The weights (coefficients) of the linear model. It is initalised with an identity matrix to start the Identity Scoring.\n",
        " - The biases (intercept) of the linear model. It is initialised with an array of zeroes the length of the continuous variables because Identity Scoring assumes that each input channel has its own bias.\n",
        " - The edges of the region\n",
        " - The categorical values of the region. Each combination of categorical values has their own unique embedding matrix, which almost certainly results in a unique model at the end. These values are populated when the embedding matrix is processed.\n",
        "\n",
        "The initialised FIONA Region is returned as a list of a single region because it is likely there will be several regions once the ReLUs are applied."
      ]
    },
    {
      "cell_type": "code",
      "metadata": {
        "id": "LM5tZHpdy_KK"
      },
      "source": [
        "def fiona_Initialise(learn):\n",
        "  cont_len = learn.data.train_ds[0][0].data[1].shape[0]\n",
        "  weight = np.eye(cont_len)\n",
        "  bias = np.zeros(cont_len)\n",
        "  cats = pd.DataFrame(data=[], columns=learn.data.train_ds.cont_names)\n",
        "\n",
        "  edges = pd.DataFrame(data = np.expand_dims(np.zeros(len(learn.data.train_ds.cont_names)), 0), \n",
        "                      columns = learn.data.train_ds.cont_names) \n",
        "  edges = [edges.copy(), edges.copy()]\n",
        "  edges = fiona_Initialise_Edges(learn, edges, 0)\n",
        "\n",
        "  return([[weight, bias, edges, cats]])\n",
        "\n",
        "fiona_list = fiona_Initialise(learn)"
      ],
      "execution_count": 15,
      "outputs": []
    },
    {
      "cell_type": "markdown",
      "metadata": {
        "id": "1uNudxtPlhC-"
      },
      "source": [
        "*fiona_BatchNorm1d* runs a list comprehension for each region in the supplied FIONA list.\n",
        "\n",
        "*fiona_BatchNorm1d_region* applies the same maths as a standard BatchNorm1d layer, except the weight and bias calculations are split"
      ]
    },
    {
      "cell_type": "code",
      "metadata": {
        "id": "jmB3yETnCgkg",
        "outputId": "3b057d9c-d670-452d-ca85-3b2d41717e39",
        "colab": {
          "base_uri": "https://localhost:8080/"
        }
      },
      "source": [
        "def fiona_BatchNorm1d_region(ml, fiona_region):\n",
        "  in_weight = fiona_region[0]\n",
        "  in_bias = fiona_region[1]\n",
        "  in_edges = fiona_region[2]\n",
        "  in_cats = fiona_region[3]\n",
        "\n",
        "  bn_weight = ml.weight.detach().numpy()\n",
        "  bn_bias = ml.bias.detach().numpy()\n",
        "  bn_running_var = ml.running_var.detach().numpy()\n",
        "  bn_running_mean = ml.running_mean.detach().numpy()\n",
        "  bn_eps = ml.eps\n",
        "\n",
        "  out_weight = ((in_weight)                 / np.sqrt(bn_running_var + bn_eps)) * bn_weight\n",
        "  out_bias =   ((in_bias - bn_running_mean) / np.sqrt(bn_running_var + bn_eps)) * bn_weight + bn_bias\n",
        "\n",
        "  return out_weight, out_bias, in_edges, in_cats\n",
        "\n",
        "def fiona_BatchNorm1d(ml, in_fiona_list):\n",
        "  return [fiona_BatchNorm1d_region(ml, region) for region in in_fiona_list]\n",
        "\n",
        "fiona_list = fiona_BatchNorm1d(learn.model.bn_cont, fiona_list)\n",
        "[weight, bias, edges, cats] = fiona_list[0]\n",
        "weight"
      ],
      "execution_count": 16,
      "outputs": [
        {
          "output_type": "execute_result",
          "data": {
            "text/plain": [
              "array([[0.904585, 0.      , 0.      ],\n",
              "       [0.      , 1.008343, 0.      ],\n",
              "       [0.      , 0.      , 0.851845]])"
            ]
          },
          "metadata": {
            "tags": []
          },
          "execution_count": 16
        }
      ]
    },
    {
      "cell_type": "markdown",
      "metadata": {
        "id": "XyMi_QmosloJ"
      },
      "source": [
        "Axis 1 of the weights is the layer, and summing on it results in weights that allow a direct comparison between the calculated output with the actual layer output. \n",
        "\n",
        "The first three values from the input need to be dropped because they represent the categorical values, which haven't been brought into the model yet."
      ]
    },
    {
      "cell_type": "code",
      "metadata": {
        "id": "yN43P6ZN3B53",
        "outputId": "a0c05bea-88a4-42e6-f6c6-b19ee0be7f9f",
        "colab": {
          "base_uri": "https://localhost:8080/"
        }
      },
      "source": [
        "weight.sum(axis=1) * input[3:, 0] + bias"
      ],
      "execution_count": 17,
      "outputs": [
        {
          "output_type": "execute_result",
          "data": {
            "text/plain": [
              "array([1.606386, 0.376331, 0.131876])"
            ]
          },
          "metadata": {
            "tags": []
          },
          "execution_count": 17
        }
      ]
    },
    {
      "cell_type": "markdown",
      "metadata": {
        "id": "Akm8PtLFtEKe"
      },
      "source": [
        "The predicted output of the layer is an exact match with the original model."
      ]
    },
    {
      "cell_type": "code",
      "metadata": {
        "id": "jqIdZn06ETGj",
        "outputId": "a033d8ad-46b4-4205-aacd-6985af63d71a",
        "colab": {
          "base_uri": "https://localhost:8080/"
        }
      },
      "source": [
        "get_out(df.iloc[172319], learn.model, learn.model.bn_cont)"
      ],
      "execution_count": 18,
      "outputs": [
        {
          "output_type": "execute_result",
          "data": {
            "text/plain": [
              "array([1.606386, 0.376331, 0.131876], dtype=float32)"
            ]
          },
          "metadata": {
            "tags": []
          },
          "execution_count": 18
        }
      ]
    },
    {
      "cell_type": "markdown",
      "metadata": {
        "id": "1BeeF_IztoOc"
      },
      "source": [
        "*fiona_Embedding_weight* extracts the weights from the embedding matrix for a given set of categorical values and returns them in a 2-d array. The return array preserves the link between each categorical variable and the output by having the results split by row. This approach is conceptually similar to the use of an identity matrix for continuous variables, but doesn't meet the definition of an identity matrix."
      ]
    },
    {
      "cell_type": "code",
      "metadata": {
        "id": "I9-SyGSCU4C8",
        "outputId": "056bc585-72ab-4015-935b-cb3db4a9a91e",
        "colab": {
          "base_uri": "https://localhost:8080/"
        }
      },
      "source": [
        "def fiona_Embedding_weight(learn, cat_filter):\n",
        "  cat_len = learn.data.train_ds[0][0].data[0].shape[0]\n",
        "  cat_weight_len = 0\n",
        "  for i in range(cat_len):\n",
        "    cat_weight_len = cat_weight_len + learn.model.embeds[i].weight.shape[1]\n",
        "  cat_weight = np.zeros((cat_len, cat_weight_len))\n",
        "\n",
        "  cat_weight_len = 0\n",
        "  for i in range(cat_len):\n",
        "    len = learn.model.embeds[i].weight.shape[1]\n",
        "    cat_weight[i:i+1, cat_weight_len:cat_weight_len+len] = learn.model.embeds[i].weight[cat_filter[i]].detach().numpy()\n",
        "    cat_weight_len = cat_weight_len + len\n",
        "  return(cat_weight)\n",
        "\n",
        "cat_filter = data.one_item(raw_input)[0][0][0].detach().numpy()\n",
        "cat_weight = fiona_Embedding_weight(learn, cat_filter)\n",
        "cat_weight"
      ],
      "execution_count": 19,
      "outputs": [
        {
          "output_type": "execute_result",
          "data": {
            "text/plain": [
              "array([[-0.558678,  0.368942, -0.240399,  0.310319, ...,  0.      ,  0.      ,  0.      ,  0.      ],\n",
              "       [ 0.      ,  0.      ,  0.      ,  0.      , ...,  0.      ,  0.      ,  0.      ,  0.      ],\n",
              "       [ 0.      ,  0.      ,  0.      ,  0.      , ...,  0.184675, -0.126688,  0.290476, -0.15661 ]])"
            ]
          },
          "metadata": {
            "tags": []
          },
          "execution_count": 19
        }
      ]
    },
    {
      "cell_type": "markdown",
      "metadata": {
        "id": "DJ1PVVwfyx4f"
      },
      "source": [
        "The results line up with the values from the embedding."
      ]
    },
    {
      "cell_type": "code",
      "metadata": {
        "id": "Rni_MH8lX_0L",
        "outputId": "b0146031-7541-4d74-b578-2b9fc79005b2",
        "colab": {
          "base_uri": "https://localhost:8080/"
        }
      },
      "source": [
        "cat_filter = data.one_item(raw_input)[0][0][0].detach().numpy()\n",
        "learn.model.embeds[0].weight[cat_filter[0]].detach().numpy()"
      ],
      "execution_count": 20,
      "outputs": [
        {
          "output_type": "execute_result",
          "data": {
            "text/plain": [
              "array([-0.558678,  0.368942, -0.240399,  0.310319, -0.320531, -0.21501 ,  0.438519, -0.315915, -0.328055,  0.625971,\n",
              "       -0.228269,  0.948768, -0.221691, -0.277921], dtype=float32)"
            ]
          },
          "metadata": {
            "tags": []
          },
          "execution_count": 20
        }
      ]
    },
    {
      "cell_type": "code",
      "metadata": {
        "id": "b1WdvxtP4bjJ",
        "outputId": "78209867-a574-49d3-a413-45a6e20f3161",
        "colab": {
          "base_uri": "https://localhost:8080/"
        }
      },
      "source": [
        "learn.model.embeds[2].weight[cat_filter[2]].detach().numpy()"
      ],
      "execution_count": 21,
      "outputs": [
        {
          "output_type": "execute_result",
          "data": {
            "text/plain": [
              "array([ 0.00769 , -0.195868, -0.171507,  0.184675, -0.126688,  0.290476, -0.15661 ], dtype=float32)"
            ]
          },
          "metadata": {
            "tags": []
          },
          "execution_count": 21
        }
      ]
    },
    {
      "cell_type": "markdown",
      "metadata": {
        "id": "yIidDDUez-H4"
      },
      "source": [
        "*fiona_Embedding_merge* merges the weights from the embedding with the FIONA region"
      ]
    },
    {
      "cell_type": "code",
      "metadata": {
        "id": "KQmq-tEPRXrz",
        "outputId": "4db8920f-69bf-4758-92ef-8368af90acfb",
        "colab": {
          "base_uri": "https://localhost:8080/"
        }
      },
      "source": [
        "def fiona_Embedding_merge(learn, fiona_region, cat_values, cat_weight):\n",
        "  in_weight = fiona_region[0]\n",
        "  in_bias = fiona_region[1]\n",
        "  in_edges = fiona_region[2]\n",
        "  \n",
        "  weight = np.zeros((in_weight.shape[0]+cat_weight.shape[0], in_weight.shape[1]+cat_weight.shape[1]))\n",
        "  weight[0:cat_weight.shape[0], 0:cat_weight.shape[1]] = cat_weight\n",
        "  weight[cat_weight.shape[0]:in_weight.shape[0]+cat_weight.shape[0], cat_weight.shape[1]:in_weight.shape[1]+cat_weight.shape[1]] = in_weight\n",
        "\n",
        "  bias = np.zeros((in_bias.shape[0]+cat_weight.shape[1]))\n",
        "  bias[cat_weight.shape[1]:cat_weight.shape[1]+in_bias.shape[0]] = in_bias\n",
        "\n",
        "  for i in range(len(learn.data.train_ds.cat_names)):\n",
        "    in_edges[0].insert(i, learn.data.train_ds.cat_names[i], 1)\n",
        "    in_edges[1].insert(i, learn.data.train_ds.cat_names[i], 1)\n",
        "\n",
        "  cats = pd.DataFrame(data=np.expand_dims(cat_values, 0), columns=learn.data.train_ds.cat_names)\n",
        "\n",
        "  return([weight, bias, in_edges, cats])\n",
        "\n",
        "cat_vars = list(data.train_ds.x.classes.keys())\n",
        "cat_values = raw_input[cat_vars].to_numpy()\n",
        "[weight, bias, edges, cats] = fiona_Embedding_merge(learn, [weight.copy(), bias.copy(), deepcopy(edges)], cat_values, cat_weight)\n",
        "weight"
      ],
      "execution_count": 22,
      "outputs": [
        {
          "output_type": "execute_result",
          "data": {
            "text/plain": [
              "array([[-0.558678,  0.368942, -0.240399,  0.310319, ...,  0.      ,  0.      ,  0.      ,  0.      ],\n",
              "       [ 0.      ,  0.      ,  0.      ,  0.      , ...,  0.      ,  0.      ,  0.      ,  0.      ],\n",
              "       [ 0.      ,  0.      ,  0.      ,  0.      , ..., -0.15661 ,  0.      ,  0.      ,  0.      ],\n",
              "       [ 0.      ,  0.      ,  0.      ,  0.      , ...,  0.      ,  0.904585,  0.      ,  0.      ],\n",
              "       [ 0.      ,  0.      ,  0.      ,  0.      , ...,  0.      ,  0.      ,  1.008343,  0.      ],\n",
              "       [ 0.      ,  0.      ,  0.      ,  0.      , ...,  0.      ,  0.      ,  0.      ,  0.851845]])"
            ]
          },
          "metadata": {
            "tags": []
          },
          "execution_count": 22
        }
      ]
    },
    {
      "cell_type": "markdown",
      "metadata": {
        "id": "efcgEfAF16Ux"
      },
      "source": [
        "The categorical variables are added to the edges to make it easier to split the regions when the ReLUs are being processed."
      ]
    },
    {
      "cell_type": "code",
      "metadata": {
        "id": "ZOcB-ic9ra_J",
        "outputId": "4a638183-9d5f-410e-df5e-96ceae321b85",
        "colab": {
          "base_uri": "https://localhost:8080/",
          "height": 421
        }
      },
      "source": [
        "edges[0]"
      ],
      "execution_count": 23,
      "outputs": [
        {
          "output_type": "execute_result",
          "data": {
            "text/html": [
              "<div>\n",
              "<style scoped>\n",
              "    .dataframe tbody tr th:only-of-type {\n",
              "        vertical-align: middle;\n",
              "    }\n",
              "\n",
              "    .dataframe tbody tr th {\n",
              "        vertical-align: top;\n",
              "    }\n",
              "\n",
              "    .dataframe thead th {\n",
              "        text-align: right;\n",
              "    }\n",
              "</style>\n",
              "<table border=\"1\" class=\"dataframe\">\n",
              "  <thead>\n",
              "    <tr style=\"text-align: right;\">\n",
              "      <th></th>\n",
              "      <th>hour</th>\n",
              "      <th>weekday</th>\n",
              "      <th>month</th>\n",
              "      <th>year</th>\n",
              "      <th>MaximumtemperatureDegreeC</th>\n",
              "      <th>MinimumtemperatureDegreeC</th>\n",
              "    </tr>\n",
              "  </thead>\n",
              "  <tbody>\n",
              "    <tr>\n",
              "      <th>0</th>\n",
              "      <td>1</td>\n",
              "      <td>1</td>\n",
              "      <td>1</td>\n",
              "      <td>-1.532967</td>\n",
              "      <td>-2.102996</td>\n",
              "      <td>-2.700646</td>\n",
              "    </tr>\n",
              "    <tr>\n",
              "      <th>0</th>\n",
              "      <td>1</td>\n",
              "      <td>1</td>\n",
              "      <td>1</td>\n",
              "      <td>-1.532967</td>\n",
              "      <td>2.930314</td>\n",
              "      <td>-2.700646</td>\n",
              "    </tr>\n",
              "    <tr>\n",
              "      <th>0</th>\n",
              "      <td>1</td>\n",
              "      <td>1</td>\n",
              "      <td>1</td>\n",
              "      <td>-1.532967</td>\n",
              "      <td>-2.102996</td>\n",
              "      <td>-2.700646</td>\n",
              "    </tr>\n",
              "    <tr>\n",
              "      <th>0</th>\n",
              "      <td>1</td>\n",
              "      <td>1</td>\n",
              "      <td>1</td>\n",
              "      <td>2.354905</td>\n",
              "      <td>-2.102996</td>\n",
              "      <td>-2.700646</td>\n",
              "    </tr>\n",
              "    <tr>\n",
              "      <th>0</th>\n",
              "      <td>1</td>\n",
              "      <td>1</td>\n",
              "      <td>1</td>\n",
              "      <td>-1.532967</td>\n",
              "      <td>-2.102996</td>\n",
              "      <td>3.128174</td>\n",
              "    </tr>\n",
              "    <tr>\n",
              "      <th>0</th>\n",
              "      <td>1</td>\n",
              "      <td>1</td>\n",
              "      <td>1</td>\n",
              "      <td>-1.532967</td>\n",
              "      <td>2.930314</td>\n",
              "      <td>3.128174</td>\n",
              "    </tr>\n",
              "    <tr>\n",
              "      <th>0</th>\n",
              "      <td>1</td>\n",
              "      <td>1</td>\n",
              "      <td>1</td>\n",
              "      <td>-1.532967</td>\n",
              "      <td>-2.102996</td>\n",
              "      <td>3.128174</td>\n",
              "    </tr>\n",
              "    <tr>\n",
              "      <th>0</th>\n",
              "      <td>1</td>\n",
              "      <td>1</td>\n",
              "      <td>1</td>\n",
              "      <td>2.354905</td>\n",
              "      <td>-2.102996</td>\n",
              "      <td>3.128174</td>\n",
              "    </tr>\n",
              "    <tr>\n",
              "      <th>0</th>\n",
              "      <td>1</td>\n",
              "      <td>1</td>\n",
              "      <td>1</td>\n",
              "      <td>-1.532967</td>\n",
              "      <td>-2.102996</td>\n",
              "      <td>-2.700646</td>\n",
              "    </tr>\n",
              "    <tr>\n",
              "      <th>0</th>\n",
              "      <td>1</td>\n",
              "      <td>1</td>\n",
              "      <td>1</td>\n",
              "      <td>-1.532967</td>\n",
              "      <td>2.930314</td>\n",
              "      <td>-2.700646</td>\n",
              "    </tr>\n",
              "    <tr>\n",
              "      <th>0</th>\n",
              "      <td>1</td>\n",
              "      <td>1</td>\n",
              "      <td>1</td>\n",
              "      <td>2.354905</td>\n",
              "      <td>-2.102996</td>\n",
              "      <td>-2.700646</td>\n",
              "    </tr>\n",
              "    <tr>\n",
              "      <th>0</th>\n",
              "      <td>1</td>\n",
              "      <td>1</td>\n",
              "      <td>1</td>\n",
              "      <td>2.354905</td>\n",
              "      <td>2.930314</td>\n",
              "      <td>-2.700646</td>\n",
              "    </tr>\n",
              "  </tbody>\n",
              "</table>\n",
              "</div>"
            ],
            "text/plain": [
              "   hour  weekday  ...  MaximumtemperatureDegreeC  MinimumtemperatureDegreeC\n",
              "0     1        1  ...                  -2.102996                  -2.700646\n",
              "0     1        1  ...                   2.930314                  -2.700646\n",
              "0     1        1  ...                  -2.102996                  -2.700646\n",
              "0     1        1  ...                  -2.102996                  -2.700646\n",
              "0     1        1  ...                  -2.102996                   3.128174\n",
              "0     1        1  ...                   2.930314                   3.128174\n",
              "0     1        1  ...                  -2.102996                   3.128174\n",
              "0     1        1  ...                  -2.102996                   3.128174\n",
              "0     1        1  ...                  -2.102996                  -2.700646\n",
              "0     1        1  ...                   2.930314                  -2.700646\n",
              "0     1        1  ...                  -2.102996                  -2.700646\n",
              "0     1        1  ...                   2.930314                  -2.700646\n",
              "\n",
              "[12 rows x 6 columns]"
            ]
          },
          "metadata": {
            "tags": []
          },
          "execution_count": 23
        }
      ]
    },
    {
      "cell_type": "markdown",
      "metadata": {
        "id": "bx_3xdFe24zh"
      },
      "source": [
        "And the categorical values are defined."
      ]
    },
    {
      "cell_type": "code",
      "metadata": {
        "id": "JLR5oRL5TMPq",
        "outputId": "ae4798f9-ab52-4490-b7f4-4fa323cf1e64",
        "colab": {
          "base_uri": "https://localhost:8080/",
          "height": 80
        }
      },
      "source": [
        "cats"
      ],
      "execution_count": 24,
      "outputs": [
        {
          "output_type": "execute_result",
          "data": {
            "text/html": [
              "<div>\n",
              "<style scoped>\n",
              "    .dataframe tbody tr th:only-of-type {\n",
              "        vertical-align: middle;\n",
              "    }\n",
              "\n",
              "    .dataframe tbody tr th {\n",
              "        vertical-align: top;\n",
              "    }\n",
              "\n",
              "    .dataframe thead th {\n",
              "        text-align: right;\n",
              "    }\n",
              "</style>\n",
              "<table border=\"1\" class=\"dataframe\">\n",
              "  <thead>\n",
              "    <tr style=\"text-align: right;\">\n",
              "      <th></th>\n",
              "      <th>hour</th>\n",
              "      <th>weekday</th>\n",
              "      <th>month</th>\n",
              "    </tr>\n",
              "  </thead>\n",
              "  <tbody>\n",
              "    <tr>\n",
              "      <th>0</th>\n",
              "      <td>7.5</td>\n",
              "      <td>2</td>\n",
              "      <td>1</td>\n",
              "    </tr>\n",
              "  </tbody>\n",
              "</table>\n",
              "</div>"
            ],
            "text/plain": [
              "  hour weekday month\n",
              "0  7.5       2     1"
            ]
          },
          "metadata": {
            "tags": []
          },
          "execution_count": 24
        }
      ]
    },
    {
      "cell_type": "markdown",
      "metadata": {
        "id": "SDCeWwNd3YTx"
      },
      "source": [
        "*fiona_Embedding* creates a cartesian product of all categories and then runs that through a list comprehension of *fiona_Embedding_update_input* to return the updated region.\n",
        "\n",
        "The resulting FIONA List is 48 half-hour intervals x 7 days of the week x 12 months of the year = 4032. This will jump to 5096 once the 'N/A' categories are included."
      ]
    },
    {
      "cell_type": "code",
      "metadata": {
        "id": "EbkGGW1ADR9O",
        "outputId": "ee3c9689-13d5-400f-e5b5-be70417397ed",
        "colab": {
          "base_uri": "https://localhost:8080/"
        }
      },
      "source": [
        "def fiona_Embedding_update_input(learn, in_fiona_region, cat_point):\n",
        "  df = learn.data.train_ds.x.inner_df.iloc[0].copy()                                      #Pull a record from the dataset, it's not important what it is\n",
        "  df[list(learn.data.train_ds.x.classes.keys())] = cat_point                              #Update the categorical values with the combination we're interested in\n",
        "  cat_filter = learn.data.one_item(df)[0][0][0].detach().numpy()                          #Process the updated value through one_item\n",
        "  cat_weight = fiona_Embedding_weight(learn, cat_filter)                                  #Pull the category weights\n",
        "  out_fiona_region = fiona_Embedding_merge(learn, in_fiona_region, cat_point, cat_weight) #Merge the category weights with the rest of the region\n",
        "  return out_fiona_region\n",
        "\n",
        "def fiona_Embedding(learn, in_fiona_list):\n",
        "  #TODO handle N/A category\n",
        "  cat_list = [learn.data.train_ds.x.inner_df[cat].drop_duplicates().to_numpy() for cat in list(learn.data.train_ds.x.classes.keys())]\n",
        "  cartesian_product = itertools.product(*cat_list)\n",
        "  cat_points = np.array([*list(cartesian_product)])\n",
        "\n",
        "  out_fiona_list = [fiona_Embedding_update_input(learn, deepcopy(in_fiona_list[0]), cat_point) for cat_point in cat_points]\n",
        "  return out_fiona_list\n",
        "\n",
        "fiona_list = fiona_Embedding(learn, fiona_list)\n",
        "len(fiona_list)"
      ],
      "execution_count": 25,
      "outputs": [
        {
          "output_type": "execute_result",
          "data": {
            "text/plain": [
              "4032"
            ]
          },
          "metadata": {
            "tags": []
          },
          "execution_count": 25
        }
      ]
    },
    {
      "cell_type": "markdown",
      "metadata": {
        "id": "0ZT1mKUetAqC"
      },
      "source": [
        "A filter function to find matching FIONA Regions for any given point needs to be defined now that there are multiple regions.\n",
        "\n",
        "*fiona_Connect_Points* connects the edges that are broken when a polygon is sliced by a plane. This function only works with convex polygons, and is also used in processing ReLU because it has the same problem.\n",
        "\n",
        "*fiona_Point_Filter_cont* is an implementation of the Point in Polygon problem that works on any number of dimensions. The polygon is recursively sliced along each dimension at the value of the point, until either the point is found to be outside the slice plane or every dimension has been tested. This solution only works with convex polygons, concave polygons cannot be created under Wagtail Lab's definition of an Ordinary Neural Network.\n",
        "\n",
        "*fiona_Point_Filter_cat* removes non-matching category combinations.\n",
        "\n",
        "*fiona_Point_Filter* returns any encompassing FIONA Regions for a given point. Multiple regions should only be returned when the point is exactly on each edge, which would mean that the resulting equations would be equal. \n",
        "\n",
        "Testing this function shows that the returning weights are the same as what was shown for single category combination we calculated earlier."
      ]
    },
    {
      "cell_type": "code",
      "metadata": {
        "id": "tNoMBZWV95Fx",
        "outputId": "a88dd8af-f6f6-4cb3-a99e-8de0699bfa31",
        "colab": {
          "base_uri": "https://localhost:8080/"
        }
      },
      "source": [
        "def fiona_Connect_Points(split_position):\n",
        "  #TODO make this function work for more than three dimensions\n",
        "  split_position['__index__'] = list(range(split_position.shape[0]))                                                     #define the index, which is the key for each point we're connecting\n",
        "  cartesian_product = itertools.product(split_position.to_numpy(), split_position.to_numpy(), split_position.to_numpy()) #create a cartestian product of all corners\n",
        "  cartesian_product = np.array([*list(cartesian_product)])\n",
        "  edge_A = pd.DataFrame(data=cartesian_product[:,0,:], columns=split_position.columns)                                   #pull the corners from each triplet into three lists\n",
        "  edge_B = pd.DataFrame(data=cartesian_product[:,1,:], columns=split_position.columns)\n",
        "  edge_C = pd.DataFrame(data=cartesian_product[:,2,:], columns=split_position.columns)\n",
        "  unique_point_filter = ((edge_A['__index__'] != edge_B['__index__'])&\n",
        "                         (edge_A['__index__'] != edge_C['__index__'])&\n",
        "                         (edge_B['__index__'] < edge_C['__index__']))                                                    #filter points to just the unique pairs\n",
        "  edge_A = edge_A[unique_point_filter]\n",
        "  edge_B = edge_B[unique_point_filter]\n",
        "  edge_C = edge_C[unique_point_filter]\n",
        "\n",
        "  edge_A['__side_c__'] = list(np.diagonal(euclidean_distances(edge_A.drop('__index__', axis=1), \n",
        "                                                              edge_B.drop('__index__', axis=1))))                        #the euclidean distance shows how far apart each pair of points is\n",
        "  edge_A['__side_b__'] = list(np.diagonal(euclidean_distances(edge_A.drop(['__index__', '__side_c__'], axis=1),\n",
        "                                                              edge_C.drop('__index__', axis=1))))                        #np.diagonal is used return just the values for each pair\n",
        "  edge_A['__side_a__'] = list(np.diagonal(euclidean_distances(edge_B.drop('__index__', axis=1), \n",
        "                                                              edge_C.drop('__index__', axis=1))))\n",
        "  \n",
        "  edge_A['__ratio_a__'] = (edge_A['__side_b__'] + edge_A['__side_c__']) / edge_A['__side_a__']                           #calculate the ratio of the sides, the smaller the ratio the wider the angle\n",
        "  edge_A[\"__rank_ratio_a__\"] = edge_A.groupby(\"__index__\")[\"__ratio_a__\"].rank(\"dense\")                                  #rank the distances to find the widest angle for each point\n",
        "  ratio_filter = (edge_A[\"__rank_ratio_a__\"] == 1)\n",
        "  edge_A = edge_A[ratio_filter]\n",
        "  edge_B = edge_B[ratio_filter]\n",
        "  edge_C = edge_C[ratio_filter]\n",
        "\n",
        "  unique_side_filter_b = (edge_A['__index__'] < edge_B['__index__'])                                                     #each line will show up twice, so the duplicates should to be removed\n",
        "  unique_side_filter_c = (edge_A['__index__'] < edge_C['__index__'])\n",
        "  drops=['__index__', '__side_c__', '__side_b__', '__side_a__', '__ratio_a__', '__rank_ratio_a__']                       #drop temp columns\n",
        "  return([edge_A[unique_side_filter_b].append(edge_A[unique_side_filter_c]).drop(drops, axis=1),\n",
        "          edge_B[unique_side_filter_b].append(edge_C[unique_side_filter_c]).drop('__index__', axis=1)])                  #return the new edges \n",
        "\n",
        "def fiona_Point_Filter_cont(learn, edges, point):\n",
        "  if edges[0].shape[1] > len(learn.data.train_ds.cont_names):                                      #If the categorical variables haven't been removed from the edges then drop them\n",
        "    edge_0 = edges[0][learn.data.train_ds.cont_names]                                              #It's a bit easier this way because the edges are dropped when no longer needed\n",
        "    edge_1 = edges[1][learn.data.train_ds.cont_names]\n",
        "  else:\n",
        "    edge_0 = edges[0]                                                                     \n",
        "    edge_1 = edges[1]\n",
        "\n",
        "  value = point[0]                                                                                 #Take the value from the first columns of the point\n",
        "  if type(point[0]) == np.ndarray:                                                                 #Under some circumstances that will be an array\n",
        "    value = value[0]\n",
        "\n",
        "  edge_filter = ((edge_0.iloc[:, 0] <= value) & (value <= edge_1.iloc[:,0]) | \n",
        "                (edge_1.iloc[:,0] <= value) & (value <= edge_0.iloc[:,0]))                         #Find the edges that pass that value for that dimension\n",
        "  if len(edge_filter) == 0:                                                                        #If there are none then the point is not in the region\n",
        "    return False\n",
        "  if (len(edge_filter) > 0)&(edge_0.shape[1] == 1):                                                #If there is at least one and it is the last column to consider\n",
        "    return True                                                                                         \n",
        "  edge_0 = edge_0[edge_filter]                                                                     #Filter the edges to those that overlap\n",
        "  edge_1 = edge_1[edge_filter]\n",
        "\n",
        "  x = edge_0-edge_1\n",
        "  a = (value - edge_1.iloc[:,0]) / x.iloc[:,0]\n",
        "  split_position = edge_1.iloc[:,1:] + x.iloc[:,1:]*np.expand_dims(a, 1)                           #Find the point on the edges where the intersect the point at that dimension\n",
        "  if split_position.shape[0] > 2:                                                                  #If the edges have more than two dimensions then it's a plane\n",
        "    connections = fiona_Connect_Points(split_position)                                             #And we need to recurse\n",
        "    return fiona_Point_Filter_cont(learn, connections, point[1:])\n",
        "  if split_position.shape[0] == 2:                                                                 #If the edges have exactly two dimensions then it's a line\n",
        "    return ((split_position[0:1].iloc[0][0] <= value) & (value <= split_position[1:2].iloc[0][0])|\n",
        "            (split_position[1:2].iloc[0][0] <= value) & (value <= split_position[0:1].iloc[0][0])) #Return whether or not the point is on the line\n",
        "  if split_position.shape[0] == 1:                                                                 #If the edges have only a single dimension then it's a point\n",
        "    return split_position[0:1] == value                                                            #Return whether the point is the value\n",
        "  return False\n",
        "\n",
        "def fiona_Point_Filter_cat(learn, in_cats, point):\n",
        "  cats = in_cats.to_numpy()\n",
        "  point_cats = point[learn.data.train_ds.cat_names].to_numpy()\n",
        "  return (point_cats == cats).all(1)[0]\n",
        "\n",
        "def fiona_Point_Filter(learn, in_point, in_fiona_list):\n",
        "  matches = [fiona_Point_Filter_cat(learn, fiona_region[3], in_point) for fiona_region in in_fiona_list]  #Filter the categories\n",
        "  out_fiona_list = list(compress(in_fiona_list, matches))\n",
        "  point = data.one_item(in_point)[0][0][0].detach().numpy()                                               #Convert category values in the point to a value of one\n",
        "  point[:] = 1\n",
        "  point = np.append(point, data.one_item(in_point)[0][1][0].detach().numpy())\n",
        "  matches = [fiona_Point_Filter_cont(learn, fiona_region[2], point) for fiona_region in out_fiona_list]   #Filter the continuous variables\n",
        "  out_fiona_list = list(compress(out_fiona_list, matches))\n",
        "  return out_fiona_list\n",
        "\n",
        "fiona_list_filtered = fiona_Point_Filter(learn, raw_input, fiona_list)\n",
        "[weight, bias, edges, cats] = fiona_list_filtered[0]\n",
        "weight"
      ],
      "execution_count": 26,
      "outputs": [
        {
          "output_type": "execute_result",
          "data": {
            "text/plain": [
              "array([[-0.558678,  0.368942, -0.240399,  0.310319, ...,  0.      ,  0.      ,  0.      ,  0.      ],\n",
              "       [ 0.      ,  0.      ,  0.      ,  0.      , ...,  0.      ,  0.      ,  0.      ,  0.      ],\n",
              "       [ 0.      ,  0.      ,  0.      ,  0.      , ..., -0.15661 ,  0.      ,  0.      ,  0.      ],\n",
              "       [ 0.      ,  0.      ,  0.      ,  0.      , ...,  0.      ,  0.904585,  0.      ,  0.      ],\n",
              "       [ 0.      ,  0.      ,  0.      ,  0.      , ...,  0.      ,  0.      ,  1.008343,  0.      ],\n",
              "       [ 0.      ,  0.      ,  0.      ,  0.      , ...,  0.      ,  0.      ,  0.      ,  0.851845]])"
            ]
          },
          "metadata": {
            "tags": []
          },
          "execution_count": 26
        }
      ]
    },
    {
      "cell_type": "markdown",
      "metadata": {
        "id": "m460jm2oyBrK"
      },
      "source": [
        "*fiona_Linear_region* applies the weights and biases of a Linear layer to a given FIONA Region.\n",
        "\n",
        "*fiona_Linear* applies *fiona_Linear_region* to a FIONA List via a list comprehension.\n",
        "\n",
        "The differences between the test results below are negative values being replaced with zero due to the subsequent in-place ReLU layer."
      ]
    },
    {
      "cell_type": "code",
      "metadata": {
        "id": "cFhpEaxqDIIk",
        "outputId": "b2c91bb2-363d-40b9-87ec-5f8df4cf81ce",
        "colab": {
          "base_uri": "https://localhost:8080/"
        }
      },
      "source": [
        "def fiona_Linear_region(layer, fiona_region):\n",
        "  in_weight = fiona_region[0]\n",
        "  in_bias = fiona_region[1]\n",
        "  in_edges = fiona_region[2]\n",
        "  in_cats = fiona_region[3]\n",
        "\n",
        "  weight = np.expand_dims(layer.weight.detach().numpy(), 0) * np.expand_dims(in_weight, 1)\n",
        "  weight = np.sum(weight, axis=2)\n",
        "  bias = np.sum(layer.weight.detach().numpy() * in_bias, 1) + layer.bias.detach().numpy()\n",
        "  return([weight, bias, in_edges, in_cats])\n",
        "\n",
        "def fiona_Linear(layer, in_fiona_list):\n",
        "  out_fiona_list = [fiona_Linear_region(layer, fiona_region) for fiona_region in in_fiona_list]\n",
        "  return out_fiona_list\n",
        "\n",
        "fiona_list = fiona_Linear(learn.model.layers[0], fiona_list)\n",
        "fiona_list_filtered = fiona_Point_Filter(learn, raw_input, fiona_list)\n",
        "[weight, bias, edges, cats] = fiona_list_filtered[0]\n",
        "np.sum(weight * input, 0) + bias"
      ],
      "execution_count": 27,
      "outputs": [
        {
          "output_type": "execute_result",
          "data": {
            "text/plain": [
              "array([ 0.101665,  2.643488,  0.041645,  3.058939,  0.576065,  2.933302, -1.566371,  3.15702 ,  1.061421, -1.701185])"
            ]
          },
          "metadata": {
            "tags": []
          },
          "execution_count": 27
        }
      ]
    },
    {
      "cell_type": "code",
      "metadata": {
        "id": "gx38PQ6VCBX4",
        "outputId": "0364d726-08c2-46fb-cc69-de714fe4303d",
        "colab": {
          "base_uri": "https://localhost:8080/"
        }
      },
      "source": [
        "get_out(df.iloc[172319], learn.model, learn.model.layers[0])"
      ],
      "execution_count": 28,
      "outputs": [
        {
          "output_type": "execute_result",
          "data": {
            "text/plain": [
              "array([0.101665, 2.643488, 0.041645, 3.058939, 0.576065, 2.933301, 0.      , 3.15702 , 1.061421, 0.      ],\n",
              "      dtype=float32)"
            ]
          },
          "metadata": {
            "tags": []
          },
          "execution_count": 28
        }
      ]
    },
    {
      "cell_type": "markdown",
      "metadata": {
        "id": "1da8WmeMzE_F"
      },
      "source": [
        "*fiona_ReLU_split_position* finds the points on a FIONA Region where the calculation of a given channel would be zero, and hence represent the boundary at which the region should be split to zero the weights and biases."
      ]
    },
    {
      "cell_type": "code",
      "metadata": {
        "id": "ZyqEeFpOviYl",
        "outputId": "25c45679-c124-40d1-f7a9-a9f3ce641e63",
        "colab": {
          "base_uri": "https://localhost:8080/",
          "height": 421
        }
      },
      "source": [
        "def fiona_ReLU_split_position(fiona_region, in_channel):\n",
        "  in_weight = fiona_region[0]\n",
        "  in_bias = fiona_region[1]\n",
        "  in_edges = fiona_region[2]\n",
        "  in_cats = fiona_region[3]\n",
        "\n",
        "  coef = in_weight[:,in_channel]                                          #Find the weight of the channel\n",
        "  gradient = (in_edges[0] - in_edges[1])                                  #Gradient of the line\n",
        "  p_numerator = -np.sum(in_edges[0] * coef, axis=1) - in_bias[in_channel] #Value at point zero\n",
        "  p_denominator = np.sum(gradient * coef, axis=1)                         #Rate that the result changes on the line\n",
        "  p = p_numerator / p_denominator                                         #Amount of movement along the line to equal zero\n",
        "  split_position = in_edges[0] + np.expand_dims(p, 1)*gradient.to_numpy() #Add movement to point zero\n",
        "  return(split_position)\n",
        "\n",
        "channel = 6\n",
        "split_position = fiona_ReLU_split_position(fiona_list_filtered[0], channel)\n",
        "split_position"
      ],
      "execution_count": 29,
      "outputs": [
        {
          "output_type": "execute_result",
          "data": {
            "text/html": [
              "<div>\n",
              "<style scoped>\n",
              "    .dataframe tbody tr th:only-of-type {\n",
              "        vertical-align: middle;\n",
              "    }\n",
              "\n",
              "    .dataframe tbody tr th {\n",
              "        vertical-align: top;\n",
              "    }\n",
              "\n",
              "    .dataframe thead th {\n",
              "        text-align: right;\n",
              "    }\n",
              "</style>\n",
              "<table border=\"1\" class=\"dataframe\">\n",
              "  <thead>\n",
              "    <tr style=\"text-align: right;\">\n",
              "      <th></th>\n",
              "      <th>hour</th>\n",
              "      <th>weekday</th>\n",
              "      <th>month</th>\n",
              "      <th>year</th>\n",
              "      <th>MaximumtemperatureDegreeC</th>\n",
              "      <th>MinimumtemperatureDegreeC</th>\n",
              "    </tr>\n",
              "  </thead>\n",
              "  <tbody>\n",
              "    <tr>\n",
              "      <th>0</th>\n",
              "      <td>1.0</td>\n",
              "      <td>1.0</td>\n",
              "      <td>1.0</td>\n",
              "      <td>76.079181</td>\n",
              "      <td>-2.102996</td>\n",
              "      <td>-2.700646</td>\n",
              "    </tr>\n",
              "    <tr>\n",
              "      <th>0</th>\n",
              "      <td>1.0</td>\n",
              "      <td>1.0</td>\n",
              "      <td>1.0</td>\n",
              "      <td>-5.452361</td>\n",
              "      <td>2.930314</td>\n",
              "      <td>-2.700646</td>\n",
              "    </tr>\n",
              "    <tr>\n",
              "      <th>0</th>\n",
              "      <td>1.0</td>\n",
              "      <td>1.0</td>\n",
              "      <td>1.0</td>\n",
              "      <td>-1.532967</td>\n",
              "      <td>2.688352</td>\n",
              "      <td>-2.700646</td>\n",
              "    </tr>\n",
              "    <tr>\n",
              "      <th>0</th>\n",
              "      <td>1.0</td>\n",
              "      <td>1.0</td>\n",
              "      <td>1.0</td>\n",
              "      <td>2.354905</td>\n",
              "      <td>2.448337</td>\n",
              "      <td>-2.700646</td>\n",
              "    </tr>\n",
              "    <tr>\n",
              "      <th>0</th>\n",
              "      <td>1.0</td>\n",
              "      <td>1.0</td>\n",
              "      <td>1.0</td>\n",
              "      <td>72.203560</td>\n",
              "      <td>-2.102996</td>\n",
              "      <td>3.128174</td>\n",
              "    </tr>\n",
              "    <tr>\n",
              "      <th>0</th>\n",
              "      <td>1.0</td>\n",
              "      <td>1.0</td>\n",
              "      <td>1.0</td>\n",
              "      <td>-9.327983</td>\n",
              "      <td>2.930314</td>\n",
              "      <td>3.128174</td>\n",
              "    </tr>\n",
              "    <tr>\n",
              "      <th>0</th>\n",
              "      <td>1.0</td>\n",
              "      <td>1.0</td>\n",
              "      <td>1.0</td>\n",
              "      <td>-1.532967</td>\n",
              "      <td>2.449093</td>\n",
              "      <td>3.128174</td>\n",
              "    </tr>\n",
              "    <tr>\n",
              "      <th>0</th>\n",
              "      <td>1.0</td>\n",
              "      <td>1.0</td>\n",
              "      <td>1.0</td>\n",
              "      <td>2.354905</td>\n",
              "      <td>2.209077</td>\n",
              "      <td>3.128174</td>\n",
              "    </tr>\n",
              "    <tr>\n",
              "      <th>0</th>\n",
              "      <td>1.0</td>\n",
              "      <td>1.0</td>\n",
              "      <td>1.0</td>\n",
              "      <td>-1.532967</td>\n",
              "      <td>-2.102996</td>\n",
              "      <td>114.025745</td>\n",
              "    </tr>\n",
              "    <tr>\n",
              "      <th>0</th>\n",
              "      <td>1.0</td>\n",
              "      <td>1.0</td>\n",
              "      <td>1.0</td>\n",
              "      <td>-1.532967</td>\n",
              "      <td>2.930314</td>\n",
              "      <td>-8.595300</td>\n",
              "    </tr>\n",
              "    <tr>\n",
              "      <th>0</th>\n",
              "      <td>1.0</td>\n",
              "      <td>1.0</td>\n",
              "      <td>1.0</td>\n",
              "      <td>2.354905</td>\n",
              "      <td>-2.102996</td>\n",
              "      <td>108.178499</td>\n",
              "    </tr>\n",
              "    <tr>\n",
              "      <th>0</th>\n",
              "      <td>1.0</td>\n",
              "      <td>1.0</td>\n",
              "      <td>1.0</td>\n",
              "      <td>2.354905</td>\n",
              "      <td>2.930314</td>\n",
              "      <td>-14.442546</td>\n",
              "    </tr>\n",
              "  </tbody>\n",
              "</table>\n",
              "</div>"
            ],
            "text/plain": [
              "   hour  weekday  ...  MaximumtemperatureDegreeC  MinimumtemperatureDegreeC\n",
              "0   1.0      1.0  ...                  -2.102996                  -2.700646\n",
              "0   1.0      1.0  ...                   2.930314                  -2.700646\n",
              "0   1.0      1.0  ...                   2.688352                  -2.700646\n",
              "0   1.0      1.0  ...                   2.448337                  -2.700646\n",
              "0   1.0      1.0  ...                  -2.102996                   3.128174\n",
              "0   1.0      1.0  ...                   2.930314                   3.128174\n",
              "0   1.0      1.0  ...                   2.449093                   3.128174\n",
              "0   1.0      1.0  ...                   2.209077                   3.128174\n",
              "0   1.0      1.0  ...                  -2.102996                 114.025745\n",
              "0   1.0      1.0  ...                   2.930314                  -8.595300\n",
              "0   1.0      1.0  ...                  -2.102996                 108.178499\n",
              "0   1.0      1.0  ...                   2.930314                 -14.442546\n",
              "\n",
              "[12 rows x 6 columns]"
            ]
          },
          "metadata": {
            "tags": []
          },
          "execution_count": 29
        }
      ]
    },
    {
      "cell_type": "markdown",
      "metadata": {
        "id": "csMglVd339nx"
      },
      "source": [
        "The split points sometimes aren't exactly zero due to a lack of precision."
      ]
    },
    {
      "cell_type": "code",
      "metadata": {
        "id": "p2PvJaSpy6mJ",
        "outputId": "6105558b-c2eb-4809-a451-35809d750a15",
        "colab": {
          "base_uri": "https://localhost:8080/"
        }
      },
      "source": [
        "np.sum(split_position[learn.data.train_ds.cont_names].to_numpy() * weight[len(learn.data.train_ds.cat_names):,channel], axis=1) + \\\n",
        "np.sum(weight[:len(learn.data.train_ds.cat_names),channel]) + \\\n",
        "bias[channel]"
      ],
      "execution_count": 30,
      "outputs": [
        {
          "output_type": "execute_result",
          "data": {
            "text/plain": [
              "array([ 4.440892e-16,  0.000000e+00,  4.440892e-16,  4.440892e-16,  8.881784e-16, -4.440892e-16,  8.881784e-16,\n",
              "       -4.440892e-16, -4.440892e-16,  4.440892e-16, -4.440892e-16,  0.000000e+00])"
            ]
          },
          "metadata": {
            "tags": []
          },
          "execution_count": 30
        }
      ]
    },
    {
      "cell_type": "markdown",
      "metadata": {
        "id": "FW8VJ3jy6fd2"
      },
      "source": [
        "*fiona_ReLU_split* takes a FIONA Region, a channel, and a side (1=positive, 0=negative) and returns the polygon which is on that side of the split. If the region is entirely positive or negative for that channel then it won't be split and the missing side will be returned as None.\n",
        "\n",
        "The following cells test the region calculated on a variety of different channels and the input value is represented as a black dot. Unfortunately a lack of depth perception can make these 3d plots difficult to interpret. Methods of visualising FIONA Regions with more than two dimensions are continuing to be investigated."
      ]
    },
    {
      "cell_type": "code",
      "metadata": {
        "id": "JnIwFN7x1IFG",
        "outputId": "b286163d-cd0b-4938-d966-9d62473259f1",
        "colab": {
          "base_uri": "https://localhost:8080/",
          "height": 265
        }
      },
      "source": [
        "def fiona_ReLU_split(in_fiona_region, in_channel, in_side):\n",
        "  in_weight = in_fiona_region[0]\n",
        "  in_bias = in_fiona_region[1]\n",
        "  in_edges = in_fiona_region[2]\n",
        "  in_cats = in_fiona_region[3]\n",
        "\n",
        "  out_edges = deepcopy(in_edges)\n",
        "  split_position = fiona_ReLU_split_position(in_fiona_region, in_channel)                                                                    #Find the split points\n",
        "  edge_test_0 = np.expand_dims((np.sum(np.expand_dims(in_weight[:,in_channel], 0) * out_edges[0], axis=1) + in_bias[in_channel] > 0) * 1, 1) #Test if the points on each edge are positive or not\n",
        "  edge_test_1 = np.expand_dims((np.sum(np.expand_dims(in_weight[:,in_channel], 0) * out_edges[1], axis=1) + in_bias[in_channel] > 0) * 1, 1) #Times one to convert to integer because bools can't be added\n",
        "  out_edges[0][:] = (out_edges[0].to_numpy() * (edge_test_0 == in_side)*1) + (split_position.to_numpy() * (edge_test_0 != in_side)*1)        #Take the original edge point if it matches the requested side\n",
        "  out_edges[1][:] = (out_edges[1].to_numpy() * (edge_test_1 == in_side)*1) + (split_position.to_numpy() * (edge_test_1 != in_side)*1)        #Take the split position if it doesn't\n",
        "\n",
        "  if in_side == 0: side_filter = ((edge_test_0 + edge_test_1) < 2)[:,0]                                                                      #If we're after the zero side then we need to drop edges where \n",
        "  else: side_filter = ((edge_test_0 + edge_test_1) > 0)[:,0]                                                                                 #Both ends are positive, and vice versa\n",
        "  out_edges[0] = out_edges[0][side_filter]\n",
        "  out_edges[1] = out_edges[1][side_filter]\n",
        "\n",
        "  split_position = split_position[((edge_test_0 + edge_test_1) == 1)[:,0]]                                                                   #Filter the split position to the ones that have been selected\n",
        "  if(split_position.shape[0] > 0):                                                                                                           #If there's any splits that need to be connected\n",
        "    [edge_out_0, edge_out_1] = fiona_Connect_Points(split_position)                                                                          #Connect the split points\n",
        "    out_edges[0] = out_edges[0].append(edge_out_0)                                                                                           #Add the new edges to the shape\n",
        "    out_edges[1] = out_edges[1].append(edge_out_1)\n",
        "  return([in_weight, in_bias, out_edges, in_cats])\n",
        "\n",
        "side = 0\n",
        "fiona_list_filtered_split_0 = fiona_ReLU_split(fiona_list_filtered[0], channel, side)\n",
        "side = 1\n",
        "fiona_list_filtered_split_1 = fiona_ReLU_split(fiona_list_filtered[0], channel, side)\n",
        "ax = edge_plot(fiona_list_filtered_split_0[2],False)\n",
        "edge_plot(fiona_list_filtered_split_1[2],False,'blue',ax)\n",
        "\n",
        "ax.scatter3D(input[4], input[3], input[5], color='black');\n",
        "ax.view_init(30, 45)\n",
        "plt.draw()"
      ],
      "execution_count": 31,
      "outputs": [
        {
          "output_type": "display_data",
          "data": {
            "image/png": "[encoded data removed]",
            "text/plain": [
              "<Figure size 432x288 with 1 Axes>"
            ]
          },
          "metadata": {
            "tags": [],
            "needs_background": "light"
          }
        },
        {
          "output_type": "display_data",
          "data": {
            "text/plain": [
              "<Figure size 432x288 with 0 Axes>"
            ]
          },
          "metadata": {
            "tags": []
          }
        }
      ]
    },
    {
      "cell_type": "code",
      "metadata": {
        "id": "yl2UrsDp5RQ4",
        "outputId": "ea8afde3-a5a8-4166-810e-cdf33de3ca46",
        "colab": {
          "base_uri": "https://localhost:8080/"
        }
      },
      "source": [
        "print(fiona_Point_Filter_cont(learn, edges, input))\n",
        "print(fiona_Point_Filter_cont(learn, fiona_list_filtered_split_0[2], input))\n",
        "print(fiona_Point_Filter_cont(learn, fiona_list_filtered_split_1[2], input))"
      ],
      "execution_count": 32,
      "outputs": [
        {
          "output_type": "stream",
          "text": [
            "True\n",
            "True\n",
            "False\n"
          ],
          "name": "stdout"
        }
      ]
    },
    {
      "cell_type": "code",
      "metadata": {
        "id": "zcMSfx5TKFHN",
        "outputId": "71277bad-c8e8-4a6e-ccc9-ce3bfe807dd6",
        "colab": {
          "base_uri": "https://localhost:8080/",
          "height": 282
        }
      },
      "source": [
        "fiona_list_filtered_split_test = fiona_ReLU_split(fiona_list_filtered[0], 0, 1)\n",
        "fiona_list_filtered_split_other = fiona_ReLU_split(fiona_list_filtered[0], 0, 0)\n",
        "ax = edge_plot(fiona_list_filtered_split_other[2],False)\n",
        "edge_plot(fiona_list_filtered_split_test[2],False,'blue',ax)\n",
        "ax.scatter3D(input[4], input[3], input[5], color='black');\n",
        "plt.draw()\n",
        "print(fiona_Point_Filter_cont(learn, fiona_list_filtered_split_test[2], input))"
      ],
      "execution_count": 33,
      "outputs": [
        {
          "output_type": "stream",
          "text": [
            "True\n"
          ],
          "name": "stdout"
        },
        {
          "output_type": "display_data",
          "data": {
            "image/png": "[encoded data removed]",
            "text/plain": [
              "<Figure size 432x288 with 1 Axes>"
            ]
          },
          "metadata": {
            "tags": [],
            "needs_background": "light"
          }
        },
        {
          "output_type": "display_data",
          "data": {
            "text/plain": [
              "<Figure size 432x288 with 0 Axes>"
            ]
          },
          "metadata": {
            "tags": []
          }
        }
      ]
    },
    {
      "cell_type": "code",
      "metadata": {
        "id": "N8vGrTHXTpRt",
        "outputId": "2d86c49a-1fb4-413f-b7ce-60897051177a",
        "colab": {
          "base_uri": "https://localhost:8080/",
          "height": 299
        }
      },
      "source": [
        "fiona_list_filtered_split_other = fiona_ReLU_split(fiona_list_filtered_split_test, 1, 0)\n",
        "fiona_list_filtered_split_test = fiona_ReLU_split(fiona_list_filtered_split_test, 1, 1)\n",
        "ax = edge_plot(fiona_list_filtered_split_other[2],False)\n",
        "edge_plot(fiona_list_filtered_split_test[2],False,'blue',ax)\n",
        "ax.scatter3D(input[4], input[3], input[5], color='black');\n",
        "plt.draw()\n",
        "print(fiona_Point_Filter_cont(learn, fiona_list_filtered_split_test[2], input))\n",
        "print(fiona_Point_Filter_cont(learn, fiona_list_filtered_split_other[2], input))"
      ],
      "execution_count": 34,
      "outputs": [
        {
          "output_type": "stream",
          "text": [
            "True\n",
            "False\n"
          ],
          "name": "stdout"
        },
        {
          "output_type": "display_data",
          "data": {
            "image/png": "[encoded data removed]",
            "text/plain": [
              "<Figure size 432x288 with 1 Axes>"
            ]
          },
          "metadata": {
            "tags": [],
            "needs_background": "light"
          }
        },
        {
          "output_type": "display_data",
          "data": {
            "text/plain": [
              "<Figure size 432x288 with 0 Axes>"
            ]
          },
          "metadata": {
            "tags": []
          }
        }
      ]
    },
    {
      "cell_type": "code",
      "metadata": {
        "id": "a28ggFLkZei1",
        "outputId": "02d115ff-300f-4f2f-fc12-8a6782973c0b",
        "colab": {
          "base_uri": "https://localhost:8080/",
          "height": 299
        }
      },
      "source": [
        "fiona_list_filtered_split_other = fiona_ReLU_split(fiona_list_filtered_split_test, 2, 0)\n",
        "fiona_list_filtered_split_test = fiona_ReLU_split(fiona_list_filtered_split_test, 2, 1)\n",
        "ax = edge_plot(fiona_list_filtered_split_other[2],False)\n",
        "edge_plot(fiona_list_filtered_split_test[2],False,'blue',ax)\n",
        "ax.scatter3D(input[4], input[3], input[5], color='black');\n",
        "plt.draw()\n",
        "print(fiona_Point_Filter_cont(learn, fiona_list_filtered_split_test[2], input))\n",
        "print(fiona_Point_Filter_cont(learn, fiona_list_filtered_split_other[2], input))"
      ],
      "execution_count": 35,
      "outputs": [
        {
          "output_type": "stream",
          "text": [
            "True\n",
            "False\n"
          ],
          "name": "stdout"
        },
        {
          "output_type": "display_data",
          "data": {
            "image/png": "[encoded data removed]",
            "text/plain": [
              "<Figure size 432x288 with 1 Axes>"
            ]
          },
          "metadata": {
            "tags": [],
            "needs_background": "light"
          }
        },
        {
          "output_type": "display_data",
          "data": {
            "text/plain": [
              "<Figure size 432x288 with 0 Axes>"
            ]
          },
          "metadata": {
            "tags": []
          }
        }
      ]
    },
    {
      "cell_type": "markdown",
      "metadata": {
        "id": "RHcrKCSr8o3B"
      },
      "source": [
        "*fiona_ReLU_region* recursively processes ReLU for all channels of a given FIONA Region, returning a FIONA List.\n",
        "\n",
        "The test region gets split into 19 separate regions, that means that within the area of interest, for this combination of categories, the Neural Network is actually 19 independent linear models."
      ]
    },
    {
      "cell_type": "code",
      "metadata": {
        "id": "7Luz8wfF4uca",
        "outputId": "fc192db8-c659-427a-d030-972b64f8704a",
        "colab": {
          "base_uri": "https://localhost:8080/"
        }
      },
      "source": [
        "%%time\n",
        "def fiona_ReLU_region(fiona_region, channel=0):\n",
        "  fiona_region_positive = deepcopy(fiona_region)                                  #Process the positive side\n",
        "  fiona_region_positive = fiona_ReLU_split(fiona_region_positive, channel, 1)\n",
        "  positive_shape = fiona_region_positive[2][0].shape[0]\n",
        "  if positive_shape > 0:                                                          #If the positive side has at least some volume \n",
        "    if channel+1 < fiona_region[0].shape[1]:                                      #and there are more channels to process\n",
        "      fiona_region_positive = fiona_ReLU_region(fiona_region_positive, channel+1) #Recurse\n",
        "    if channel+1 == fiona_region[0].shape[1]:                                     #If there are no more channels to process\n",
        "      fiona_region_positive = [fiona_region_positive]                             #Put the region in a list\n",
        "\n",
        "  fiona_region_zero = deepcopy(fiona_region)                                      #Process the negative side\n",
        "  fiona_region_zero = fiona_ReLU_split(fiona_region_zero, channel, 0)\n",
        "  zero_shape = fiona_region_zero[2][0].shape[0]\n",
        "  if zero_shape > 0:                                                              #If the negative side has some volumne\n",
        "    fiona_region_zero[0][:, channel] = 0                                          #Set the weights for this channel to zero\n",
        "    fiona_region_zero[1][channel] = 0                                             #Set the biases for this channel to zero\n",
        "    if channel+1 < fiona_region[0].shape[1]:                                      #If there are more channels to process\n",
        "      fiona_region_zero = fiona_ReLU_region(fiona_region_zero, channel+1)         #Recurse\n",
        "    if channel+1 == fiona_region[0].shape[1]:                                     #If there are no more channels to process\n",
        "      fiona_region_zero = [fiona_region_zero]                                     #Put the region in a list\n",
        "\n",
        "  if zero_shape == 0:                                                             #If there was no volume on the negative side\n",
        "    return fiona_region_positive                                                  #Return the positive side\n",
        "  if positive_shape == 0:                                                         #If there was no volume on the positive side\n",
        "    return fiona_region_zero                                                      #Return the negative side\n",
        "  return fiona_region_positive + fiona_region_zero                                #Otherwise concatenate the lists and return\n",
        "\n",
        "fiona_list_filtered_split = fiona_ReLU_region(fiona_list_filtered[0])\n",
        "print(len(fiona_list_filtered_split))"
      ],
      "execution_count": 36,
      "outputs": [
        {
          "output_type": "stream",
          "text": [
            "19\n",
            "CPU times: user 1.81 s, sys: 2.83 ms, total: 1.82 s\n",
            "Wall time: 1.82 s\n"
          ],
          "name": "stdout"
        }
      ]
    },
    {
      "cell_type": "markdown",
      "metadata": {
        "id": "aHh-v9JE_JF4"
      },
      "source": [
        "*fiona_ReLU* runs a list comprehension over all regions in the FIONA List.\n",
        "\n",
        "The ten regions processed below became 200 regions after the ReLU, meaning that the full model is probably around a million linear models.\n",
        "\n",
        "It would take about an hour and a half to process the whole network on Colab. Improving this performance is being investigated."
      ]
    },
    {
      "cell_type": "code",
      "metadata": {
        "id": "pZr-SqOB2R3t",
        "outputId": "e4f9e39f-5b03-454f-a396-703ca01db465",
        "colab": {
          "base_uri": "https://localhost:8080/"
        }
      },
      "source": [
        "%%time\n",
        "def fiona_ReLU(in_fiona_list):\n",
        "  fiona_list_lc = [fiona_ReLU_region(fiona_region) for fiona_region in in_fiona_list]\n",
        "  return list(itertools.chain(*fiona_list_lc))\n",
        "\n",
        "fiona_list_ReLU = deepcopy(fiona_list[0:10])                                          #limited to ten here for speed of the walkthrough\n",
        "print(len(fiona_list_ReLU))\n",
        "fiona_list_ReLU = fiona_ReLU(fiona_list_ReLU)\n",
        "print(len(fiona_list_ReLU))"
      ],
      "execution_count": 37,
      "outputs": [
        {
          "output_type": "stream",
          "text": [
            "10\n",
            "200\n",
            "CPU times: user 15.6 s, sys: 7.84 ms, total: 15.7 s\n",
            "Wall time: 15.7 s\n"
          ],
          "name": "stdout"
        }
      ]
    },
    {
      "cell_type": "markdown",
      "metadata": {
        "id": "glVvgjZGAqCa"
      },
      "source": [
        "Testing the sample point shows that the linear model for the point of interest is an unusually shaped polygon."
      ]
    },
    {
      "cell_type": "code",
      "metadata": {
        "id": "hBlW55m31Kt0",
        "outputId": "afcaeb7e-06a8-4cac-b7ee-9e64cc52c61e",
        "colab": {
          "base_uri": "https://localhost:8080/",
          "height": 265
        }
      },
      "source": [
        "fiona_list_filtered = fiona_Point_Filter(learn, raw_input, fiona_list_filtered_split)\n",
        "ax = edge_plot(fiona_list_filtered[0][2],False)\n",
        "ax.scatter3D(input[4], input[3], input[5], color='black');\n",
        "plt.draw()\n",
        "print(fiona_Point_Filter_cont(learn, fiona_list_filtered[0][2], input))"
      ],
      "execution_count": 38,
      "outputs": [
        {
          "output_type": "stream",
          "text": [
            "True\n"
          ],
          "name": "stdout"
        },
        {
          "output_type": "display_data",
          "data": {
            "image/png": "[encoded data removed]",
            "text/plain": [
              "<Figure size 432x288 with 1 Axes>"
            ]
          },
          "metadata": {
            "tags": [],
            "needs_background": "light"
          }
        }
      ]
    },
    {
      "cell_type": "markdown",
      "metadata": {
        "id": "8T64PwQHBNtJ"
      },
      "source": [
        "And testing the weights and biases of the model shows that the behaviour is correct."
      ]
    },
    {
      "cell_type": "code",
      "metadata": {
        "id": "XvKUi8cHiCfC",
        "outputId": "95ab1724-8fd5-4bbb-f5f3-f0cf2178d673",
        "colab": {
          "base_uri": "https://localhost:8080/"
        }
      },
      "source": [
        "[weight, bias, edges, cats] = fiona_list_filtered[0]\n",
        "np.sum(weight * input, 0) + bias"
      ],
      "execution_count": 39,
      "outputs": [
        {
          "output_type": "execute_result",
          "data": {
            "text/plain": [
              "array([0.101665, 2.643488, 0.041645, 3.058939, 0.576065, 2.933302, 0.      , 3.15702 , 1.061421, 0.      ])"
            ]
          },
          "metadata": {
            "tags": []
          },
          "execution_count": 39
        }
      ]
    },
    {
      "cell_type": "code",
      "metadata": {
        "id": "qFpL0oM-7vFm",
        "outputId": "b5fd88f7-c6d9-4e40-d0f2-5eaf2a99d78b",
        "colab": {
          "base_uri": "https://localhost:8080/"
        }
      },
      "source": [
        "get_out(df.iloc[172319], learn.model, learn.model.layers[0])"
      ],
      "execution_count": 40,
      "outputs": [
        {
          "output_type": "execute_result",
          "data": {
            "text/plain": [
              "array([0.101665, 2.643488, 0.041645, 3.058939, 0.576065, 2.933301, 0.      , 3.15702 , 1.061421, 0.      ],\n",
              "      dtype=float32)"
            ]
          },
          "metadata": {
            "tags": []
          },
          "execution_count": 40
        }
      ]
    },
    {
      "cell_type": "markdown",
      "metadata": {
        "id": "M32_pVglBYoJ"
      },
      "source": [
        "The last two layers of the model are applied to round out the walkthrough."
      ]
    },
    {
      "cell_type": "code",
      "metadata": {
        "id": "P5aMOOkIPyOe",
        "outputId": "fc1a30cb-1cb4-4184-ec17-1ccba26d77a0",
        "colab": {
          "base_uri": "https://localhost:8080/"
        }
      },
      "source": [
        "fiona_list_filtered = fiona_Point_Filter(learn, raw_input, fiona_list_filtered_split)\n",
        "[weight, bias, edges, cats] = fiona_list_filtered[0]\n",
        "np.sum(weight * np.expand_dims(input, 0), axis=1) + bias"
      ],
      "execution_count": 41,
      "outputs": [
        {
          "output_type": "execute_result",
          "data": {
            "text/plain": [
              "array([[0.101665, 2.643488, 0.041645, 3.058939, 0.576065, 2.933302, 0.      , 3.15702 , 1.061421, 0.      ]])"
            ]
          },
          "metadata": {
            "tags": []
          },
          "execution_count": 41
        }
      ]
    },
    {
      "cell_type": "code",
      "metadata": {
        "id": "efq6GlDZgU7p",
        "outputId": "a78def33-a801-4b5c-9a19-d8aef53671b3",
        "colab": {
          "base_uri": "https://localhost:8080/"
        }
      },
      "source": [
        "get_out(df.iloc[172319], learn.model, learn.model.layers[1])"
      ],
      "execution_count": 42,
      "outputs": [
        {
          "output_type": "execute_result",
          "data": {
            "text/plain": [
              "array([0.101665, 2.643488, 0.041645, 3.058939, 0.576065, 2.933301, 0.      , 3.15702 , 1.061421, 0.      ],\n",
              "      dtype=float32)"
            ]
          },
          "metadata": {
            "tags": []
          },
          "execution_count": 42
        }
      ]
    },
    {
      "cell_type": "code",
      "metadata": {
        "id": "0Y19bVaFjHHq",
        "outputId": "425db581-8ddb-4ced-f636-1c83be62c2cd",
        "colab": {
          "base_uri": "https://localhost:8080/"
        }
      },
      "source": [
        "fiona_list_filtered = fiona_BatchNorm1d(learn.model.layers[2], fiona_list_filtered)\n",
        "[weight, bias, edges, cats] = fiona_list_filtered[0]\n",
        "np.sum(weight * np.expand_dims(input, 0), axis=1) + bias"
      ],
      "execution_count": 43,
      "outputs": [
        {
          "output_type": "execute_result",
          "data": {
            "text/plain": [
              "array([[  6.627854,  18.234922, -13.902263,   7.270729,   7.144721, -12.45024 ,   8.100237, -11.825362, -15.563116,\n",
              "          7.566479]])"
            ]
          },
          "metadata": {
            "tags": []
          },
          "execution_count": 43
        }
      ]
    },
    {
      "cell_type": "code",
      "metadata": {
        "id": "dg_VQ22BjZOl",
        "outputId": "9eab23bf-2d79-4808-b5fd-eb9fa9bd5891",
        "colab": {
          "base_uri": "https://localhost:8080/"
        }
      },
      "source": [
        "get_out(df.iloc[172319], learn.model, learn.model.layers[2])"
      ],
      "execution_count": 44,
      "outputs": [
        {
          "output_type": "execute_result",
          "data": {
            "text/plain": [
              "array([  6.627854,  18.234922, -13.902264,   7.270728,   7.144721, -12.45024 ,   8.100237, -11.825363, -15.563117,\n",
              "         7.566479], dtype=float32)"
            ]
          },
          "metadata": {
            "tags": []
          },
          "execution_count": 44
        }
      ]
    },
    {
      "cell_type": "markdown",
      "metadata": {
        "id": "ZqiXycnxBvhU"
      },
      "source": [
        "The final result of FIONA matches to the fourth decimal place, the rounding error is being investigated."
      ]
    },
    {
      "cell_type": "code",
      "metadata": {
        "id": "XJ0VO0W3j4kd",
        "outputId": "c1b5ad9f-9e99-4d0e-d30b-d4f13f165352",
        "colab": {
          "base_uri": "https://localhost:8080/"
        }
      },
      "source": [
        "fiona_list_filtered = fiona_Linear(learn.model.layers[3], fiona_list_filtered)\n",
        "[weight, bias, edges, cats] = fiona_list_filtered[0]\n",
        "np.sum(weight * np.expand_dims(input, 0), axis=1) + bias"
      ],
      "execution_count": 45,
      "outputs": [
        {
          "output_type": "execute_result",
          "data": {
            "text/plain": [
              "array([[969.940533]])"
            ]
          },
          "metadata": {
            "tags": []
          },
          "execution_count": 45
        }
      ]
    },
    {
      "cell_type": "code",
      "metadata": {
        "id": "3vYsb8CBkg5p",
        "outputId": "a924756b-16c5-47ec-91dd-6c85bcc58d0e",
        "colab": {
          "base_uri": "https://localhost:8080/"
        }
      },
      "source": [
        "get_out(df.iloc[172319], learn.model, learn.model.layers[3])"
      ],
      "execution_count": 46,
      "outputs": [
        {
          "output_type": "execute_result",
          "data": {
            "text/plain": [
              "array([969.94055], dtype=float32)"
            ]
          },
          "metadata": {
            "tags": []
          },
          "execution_count": 46
        }
      ]
    },
    {
      "cell_type": "markdown",
      "metadata": {
        "id": "IxHhW6pnB8oZ"
      },
      "source": [
        "FIONA's real value becomes clear - it is now possible to inspect the intercept and coefficients of the linear model. Interestingly, for this particular record the majority of the result comes from the model's biases."
      ]
    },
    {
      "cell_type": "code",
      "metadata": {
        "id": "pzlUOWNgpeLY",
        "outputId": "935b2b17-accc-42d2-b85e-f64b76fc92d4",
        "colab": {
          "base_uri": "https://localhost:8080/"
        }
      },
      "source": [
        "bias"
      ],
      "execution_count": 47,
      "outputs": [
        {
          "output_type": "execute_result",
          "data": {
            "text/plain": [
              "array([966.449429])"
            ]
          },
          "metadata": {
            "tags": []
          },
          "execution_count": 47
        }
      ]
    },
    {
      "cell_type": "code",
      "metadata": {
        "id": "U4ijRwjMnKsy",
        "outputId": "65fac45a-6c97-4798-fe52-d0a70478396f",
        "colab": {
          "base_uri": "https://localhost:8080/"
        }
      },
      "source": [
        "weight"
      ],
      "execution_count": 48,
      "outputs": [
        {
          "output_type": "execute_result",
          "data": {
            "text/plain": [
              "array([[ 28.619897],\n",
              "       [ 58.54722 ],\n",
              "       [  3.860721],\n",
              "       [-54.518293],\n",
              "       [ -0.452366],\n",
              "       [ 81.109414]])"
            ]
          },
          "metadata": {
            "tags": []
          },
          "execution_count": 48
        }
      ]
    },
    {
      "cell_type": "code",
      "metadata": {
        "id": "tiSeN_NeqKLn",
        "outputId": "5744dd42-c827-4abb-81b2-68f517207704",
        "colab": {
          "base_uri": "https://localhost:8080/"
        }
      },
      "source": [
        "input"
      ],
      "execution_count": 49,
      "outputs": [
        {
          "output_type": "execute_result",
          "data": {
            "text/plain": [
              "array([[1.      ],\n",
              "       [1.      ],\n",
              "       [1.      ],\n",
              "       [2.354905],\n",
              "       [0.989571],\n",
              "       [0.509144]])"
            ]
          },
          "metadata": {
            "tags": []
          },
          "execution_count": 49
        }
      ]
    }
  ]
}